{
 "cells": [
  {
   "cell_type": "markdown",
   "metadata": {},
   "source": [
    "<h1><center>BLOSUM</center></h1>\n",
    "\n",
    "\n",
    "On va donc construire notre matrice Blosum. BlosumX est une matrice de substitution par bloques, elle est \n",
    "obtenue à partir d'un alignement de séquences qui ont au maximum X% d'identité entre elles."
   ]
  },
  {
   "cell_type": "code",
   "execution_count": 30,
   "metadata": {
    "collapsed": true
   },
   "outputs": [],
   "source": [
    "import numpy as np\n",
    "import pandas as pd\n",
    "import math"
   ]
  },
  {
   "cell_type": "code",
   "execution_count": 31,
   "metadata": {
    "collapsed": true
   },
   "outputs": [],
   "source": [
    "seq_input = [\"FPTADAGGRS\", \"FVTADALGRS\", \"FPTPDAGLRN\", \"FVTAEAGLRQ\", \"FPTAEAGGRS\"]"
   ]
  },
  {
   "cell_type": "markdown",
   "metadata": {},
   "source": [
    "On va créer une liste de tous les aa qu'on a dans nos séquences"
   ]
  },
  {
   "cell_type": "code",
   "execution_count": 39,
   "metadata": {},
   "outputs": [
    {
     "name": "stdout",
     "output_type": "stream",
     "text": [
      "aa in matrix:  ['A', 'D', 'E', 'F', 'G', 'L', 'N', 'P', 'Q', 'R', 'S', 'T', 'V']\n"
     ]
    }
   ],
   "source": [
    "letters_in_matrix = sorted(''.join(set(''.join(seq_input)))) # liste alphabétique des aa uniques\n",
    "dict_letter_int = dict(zip(letters_in_matrix, range(len(letters_in_matrix)))) #dico pour avoir l'indice à partir de l'aa\n",
    "dict_int_letter = {} #dico qu'on va remplir pour avoir l'aa à partir de l'indice\n",
    "for k, v in dict_letter_int.items():  #pour les couples (aa, indice) dans le dico aa: indice\n",
    "    dict_int_letter[v] = k  # on remplie le dico indice aa en inversant clef et valeur\n",
    "print('aa in matrix: ', letters_in_matrix)"
   ]
  },
  {
   "cell_type": "markdown",
   "metadata": {},
   "source": [
    "On crée ensuite un tableau avec nos séquences d'aa"
   ]
  },
  {
   "cell_type": "code",
   "execution_count": 40,
   "metadata": {},
   "outputs": [
    {
     "name": "stdout",
     "output_type": "stream",
     "text": [
      "[['F' 'P' 'T' 'A' 'D' 'A' 'G' 'G' 'R' 'S']\n",
      " ['F' 'V' 'T' 'A' 'D' 'A' 'L' 'G' 'R' 'S']\n",
      " ['F' 'P' 'T' 'P' 'D' 'A' 'G' 'L' 'R' 'N']\n",
      " ['F' 'V' 'T' 'A' 'E' 'A' 'G' 'L' 'R' 'Q']\n",
      " ['F' 'P' 'T' 'A' 'E' 'A' 'G' 'G' 'R' 'S']]\n"
     ]
    }
   ],
   "source": [
    "seq_matrix = np.array([list(s) for s in seq_input])\n",
    "print(seq_matrix)"
   ]
  },
  {
   "cell_type": "markdown",
   "metadata": {},
   "source": [
    "On crée une fonction de visualisation afin d'afficher nos matrice avec les headers associés"
   ]
  },
  {
   "cell_type": "code",
   "execution_count": 41,
   "metadata": {
    "collapsed": true
   },
   "outputs": [],
   "source": [
    "def show(matrix, header):\n",
    "    print(pd.DataFrame(matrix, index=header, columns=header))"
   ]
  },
  {
   "cell_type": "markdown",
   "metadata": {},
   "source": [
    "On crée ensuite la matrice des Cab values, les fréquences de paires"
   ]
  },
  {
   "cell_type": "code",
   "execution_count": 42,
   "metadata": {},
   "outputs": [
    {
     "name": "stdout",
     "output_type": "stream",
     "text": [
      "    A  D  E   F   G  L  N  P  Q   R  S   T  V\n",
      "A  16  0  0   0   0  0  0  0  0   0  0   0  0\n",
      "D   0  3  0   0   0  0  0  0  0   0  0   0  0\n",
      "E   0  6  1   0   0  0  0  0  0   0  0   0  0\n",
      "F   0  0  0  10   0  0  0  0  0   0  0   0  0\n",
      "G   0  0  0   0   9  0  0  0  0   0  0   0  0\n",
      "L   0  0  0   0  10  1  0  0  0   0  0   0  0\n",
      "N   0  0  0   0   0  0  0  0  0   0  0   0  0\n",
      "P   4  0  0   0   0  0  0  3  0   0  0   0  0\n",
      "Q   0  0  0   0   0  0  1  0  0   0  0   0  0\n",
      "R   0  0  0   0   0  0  0  0  0  10  0   0  0\n",
      "S   0  0  0   0   0  0  3  0  3   0  3   0  0\n",
      "T   0  0  0   0   0  0  0  0  0   0  0  10  0\n",
      "V   0  0  0   0   0  0  0  6  0   0  0   0  1\n"
     ]
    }
   ],
   "source": [
    "cab_value = np.zeros((len(letters_in_matrix), len(letters_in_matrix)), dtype=np.int) #crée une matrice carrée d'entiers\n",
    "for column in seq_matrix.T:  # pour chaque colonne de la matrice de sequences        # nuls de taille du nbr d'aa présents\n",
    "    for i_index, i_letter in enumerate(column): #pour chaque indice i et aa i de la colonne\n",
    "        subcolumn = column[i_index+1:]  # on crée une sous-colonne avec un décalage de 1 dans l'indice\n",
    "        for j_letter in subcolumn: # pour chaque aa j dans la sous colonne \n",
    "            cab_value[dict_letter_int[j_letter]][dict_letter_int[i_letter]] += 1              \n",
    "            cab_value[dict_letter_int[i_letter]][dict_letter_int[j_letter]] += 1\n",
    "            \n",
    "for i in range(len(cab_value)):  # on met à 0 tout le triangle supérieur droit mais pas la diagonale\n",
    "    for j in range(i, len(cab_value)):\n",
    "        if i != j:\n",
    "            cab_value[i][j] = 0\n",
    "        else: \n",
    "            cab_value[i][j] = cab_value[i][j]/2\n",
    "show(cab_value, letters_in_matrix)"
   ]
  },
  {
   "cell_type": "markdown",
   "metadata": {},
   "source": [
    "On construit ensuite la matrice normalisée des fréquences de paire "
   ]
  },
  {
   "cell_type": "code",
   "execution_count": 43,
   "metadata": {},
   "outputs": [
    {
     "name": "stdout",
     "output_type": "stream",
     "text": [
      "      A     D     E    F     G     L     N     P     Q    R     S    T     V\n",
      "A  0.16  0.00  0.00  0.0  0.00  0.00  0.00  0.00  0.00  0.0  0.00  0.0  0.00\n",
      "D  0.00  0.03  0.00  0.0  0.00  0.00  0.00  0.00  0.00  0.0  0.00  0.0  0.00\n",
      "E  0.00  0.06  0.01  0.0  0.00  0.00  0.00  0.00  0.00  0.0  0.00  0.0  0.00\n",
      "F  0.00  0.00  0.00  0.1  0.00  0.00  0.00  0.00  0.00  0.0  0.00  0.0  0.00\n",
      "G  0.00  0.00  0.00  0.0  0.09  0.00  0.00  0.00  0.00  0.0  0.00  0.0  0.00\n",
      "L  0.00  0.00  0.00  0.0  0.10  0.01  0.00  0.00  0.00  0.0  0.00  0.0  0.00\n",
      "N  0.00  0.00  0.00  0.0  0.00  0.00  0.00  0.00  0.00  0.0  0.00  0.0  0.00\n",
      "P  0.04  0.00  0.00  0.0  0.00  0.00  0.00  0.03  0.00  0.0  0.00  0.0  0.00\n",
      "Q  0.00  0.00  0.00  0.0  0.00  0.00  0.01  0.00  0.00  0.0  0.00  0.0  0.00\n",
      "R  0.00  0.00  0.00  0.0  0.00  0.00  0.00  0.00  0.00  0.1  0.00  0.0  0.00\n",
      "S  0.00  0.00  0.00  0.0  0.00  0.00  0.03  0.00  0.03  0.0  0.03  0.0  0.00\n",
      "T  0.00  0.00  0.00  0.0  0.00  0.00  0.00  0.00  0.00  0.0  0.00  0.1  0.00\n",
      "V  0.00  0.00  0.00  0.0  0.00  0.00  0.00  0.06  0.00  0.0  0.00  0.0  0.01\n"
     ]
    }
   ],
   "source": [
    "T = np.sum(cab_value)  # T est la somme de toutes les valeurs de la matrice des fréquences de paire\n",
    "qab_value = np.divide(cab_value, T)  # on divise donc chaque valeur de la matrice précédente par T pour la normalisation\n",
    "show(qab_value, letters_in_matrix)  # on affiche"
   ]
  },
  {
   "cell_type": "markdown",
   "metadata": {},
   "source": [
    "On va calculer les probabilités pour chaque aa puis construire la matrice des probabilités des paires. "
   ]
  },
  {
   "cell_type": "code",
   "execution_count": 44,
   "metadata": {},
   "outputs": [
    {
     "name": "stdout",
     "output_type": "stream",
     "text": [
      "        A       D       E      F       G       L       N       P       Q  \\\n",
      "A  0.0324  0.0000  0.0000  0.000  0.0000  0.0000  0.0000  0.0000  0.0000   \n",
      "D  0.0216  0.0036  0.0000  0.000  0.0000  0.0000  0.0000  0.0000  0.0000   \n",
      "E  0.0144  0.0048  0.0016  0.000  0.0000  0.0000  0.0000  0.0000  0.0000   \n",
      "F  0.0360  0.0120  0.0080  0.010  0.0000  0.0000  0.0000  0.0000  0.0000   \n",
      "G  0.0504  0.0168  0.0112  0.028  0.0196  0.0000  0.0000  0.0000  0.0000   \n",
      "L  0.0216  0.0072  0.0048  0.012  0.0168  0.0036  0.0000  0.0000  0.0000   \n",
      "N  0.0072  0.0024  0.0016  0.004  0.0056  0.0024  0.0004  0.0000  0.0000   \n",
      "P  0.0288  0.0096  0.0064  0.016  0.0224  0.0096  0.0032  0.0064  0.0000   \n",
      "Q  0.0072  0.0024  0.0016  0.004  0.0056  0.0024  0.0008  0.0032  0.0004   \n",
      "R  0.0360  0.0120  0.0080  0.020  0.0280  0.0120  0.0040  0.0160  0.0040   \n",
      "S  0.0216  0.0072  0.0048  0.012  0.0168  0.0072  0.0024  0.0096  0.0024   \n",
      "T  0.0360  0.0120  0.0080  0.020  0.0280  0.0120  0.0040  0.0160  0.0040   \n",
      "V  0.0144  0.0048  0.0032  0.008  0.0112  0.0048  0.0016  0.0064  0.0016   \n",
      "\n",
      "       R       S      T       V  \n",
      "A  0.000  0.0000  0.000  0.0000  \n",
      "D  0.000  0.0000  0.000  0.0000  \n",
      "E  0.000  0.0000  0.000  0.0000  \n",
      "F  0.000  0.0000  0.000  0.0000  \n",
      "G  0.000  0.0000  0.000  0.0000  \n",
      "L  0.000  0.0000  0.000  0.0000  \n",
      "N  0.000  0.0000  0.000  0.0000  \n",
      "P  0.000  0.0000  0.000  0.0000  \n",
      "Q  0.000  0.0000  0.000  0.0000  \n",
      "R  0.010  0.0000  0.000  0.0000  \n",
      "S  0.012  0.0036  0.000  0.0000  \n",
      "T  0.020  0.0120  0.010  0.0000  \n",
      "V  0.008  0.0048  0.008  0.0016  \n"
     ]
    }
   ],
   "source": [
    "size = seq_matrix.shape[0]*seq_matrix.shape[1] #on calcule la taille de la matrice des sequences = nombre d'aa au total\n",
    "unique, counts = np.unique(np.ravel(seq_matrix), return_counts=True) #unique renvoie la liste des aa dans unique et\n",
    "                                                                     #la liste des occurences de chaque aa dans counts\n",
    "dict_count_value = dict(zip(unique, counts)) #on crée le dico à partir des duplets des listes unique et counts\n",
    "dict_freq_value = {}\n",
    "for letter in dict_count_value:\n",
    "    dict_freq_value[letter] = dict_count_value[letter]/size #dico qui associe un aa et \n",
    "                                                                  #P(a)=occurence(aa)/nb total d'aa\n",
    "\n",
    "eab_value = np.zeros((len(letters_in_matrix), len(letters_in_matrix)), dtype=np.float) #matrice remplie de 0\n",
    "for i in range(len(eab_value)): \n",
    "    for j in range(i, len(eab_value)):\n",
    "        if i != j:  #si les aa sont différents\n",
    "            eab_value[j][i] = 2*dict_freq_value[dict_int_letter[i]]*dict_freq_value[dict_int_letter[j]]\n",
    "        else:   #si c'est le même aa\n",
    "            eab_value[j][i] = pow(dict_freq_value[dict_int_letter[i]], 2)\n",
    "show(eab_value, letters_in_matrix)"
   ]
  },
  {
   "cell_type": "code",
   "execution_count": 45,
   "metadata": {},
   "outputs": [
    {
     "name": "stdout",
     "output_type": "stream",
     "text": [
      "   A  D  E  F  G  L  N  P  Q  R  S  T  V\n",
      "A  5  0  0  0  0  0  0  0  0  0  0  0  0\n",
      "D  0  6  0  0  0  0  0  0  0  0  0  0  0\n",
      "E  0  7  5  0  0  0  0  0  0  0  0  0  0\n",
      "F  0  0  0  7  0  0  0  0  0  0  0  0  0\n",
      "G  0  0  0  0  4  0  0  0  0  0  0  0  0\n",
      "L  0  0  0  0  5  3  0  0  0  0  0  0  0\n",
      "N  0  0  0  0  0  0  0  0  0  0  0  0  0\n",
      "P  1  0  0  0  0  0  0  4  0  0  0  0  0\n",
      "Q  0  0  0  0  0  0  7  0  0  0  0  0  0\n",
      "R  0  0  0  0  0  0  0  0  0  7  0  0  0\n",
      "S  0  0  0  0  0  0  7  0  7  0  6  0  0\n",
      "T  0  0  0  0  0  0  0  0  0  0  0  7  0\n",
      "V  0  0  0  0  0  0  0  6  0  0  0  0  5\n"
     ]
    }
   ],
   "source": [
    "score_value = np.zeros((len(letters_in_matrix), len(letters_in_matrix)), dtype=np.float) #matrice de score remplie de 0\n",
    "for i in range(len(score_value)):\n",
    "    for j in range(i, len(score_value)):\n",
    "        if qab_value[j][i] != 0.000000:  #si la valeur dans la matrice des qab est différente de 0, on calcule le score\n",
    "            score_value[j][i] = round(2*math.log(qab_value[j][i]/eab_value[j][i], 2))\n",
    "        else:  #si la valeur dans la matrice des qab est égale à 0, le score =0\n",
    "            score_value[j][i] = 0.0\n",
    "score_value = score_value.astype(np.int) #pour l'affichage on convertit en entiers\n",
    "show(score_value, letters_in_matrix)"
   ]
  },
  {
   "cell_type": "markdown",
   "metadata": {},
   "source": [
    "Evidemment, cette matrice BLOSUM créée ci-dessus n'a pas de sens biologique puisque les séquences sont courtes, peu nombreuses ce qui implique qu'on ne peut même pas remplir toutes les cases de la matrice."
   ]
  }
 ],
 "metadata": {
  "kernelspec": {
   "display_name": "Python 3",
   "language": "python",
   "name": "python3"
  },
  "language_info": {
   "codemirror_mode": {
    "name": "ipython",
    "version": 3
   },
   "file_extension": ".py",
   "mimetype": "text/x-python",
   "name": "python",
   "nbconvert_exporter": "python",
   "pygments_lexer": "ipython3",
   "version": "3.7.3"
  }
 },
 "nbformat": 4,
 "nbformat_minor": 2
}
