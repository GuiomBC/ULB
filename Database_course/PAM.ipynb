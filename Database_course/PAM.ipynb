{
 "cells": [
  {
   "cell_type": "markdown",
   "metadata": {},
   "source": [
    "<h1><center>PAM</center></h1>\n",
    "\n",
    "\n",
    "On construit la matrice PAMx à partir de la matrice PAM1. PAM (point accepted mutation) est une matrice de substitution basée sur les distance évolutives entre espèces. Elle n'autorise donc que les mutations acceptées par selection naturelle donc non léthales ou silencieuses."
   ]
  },
  {
   "cell_type": "code",
   "execution_count": 16,
   "metadata": {},
   "outputs": [
    {
     "name": "stdout",
     "output_type": "stream",
     "text": [
      "    A   R   N   D   C   Q   E   G   H   I   L   K   M   F   P   S   T   W   Y  \\\n",
      "A  13  12  13  12  12  12  12  12  12  13  12  13  12  13  13  13  13  12  12   \n",
      "R   6   6   6   6   6   6   6   6   6   6   6   6   6   6   6   6   6   6   6   \n",
      "N   6   6   6   6   6   6   6   6   6   6   6   6   6   6   6   6   6   6   6   \n",
      "D   7   7   7   7   7   7   7   7   7   7   7   7   7   7   7   7   7   7   7   \n",
      "C   5   5   5   5   4   5   5   5   4   5   5   5   5   5   5   5   5   4   4   \n",
      "Q   5   5   5   5   5   5   5   5   5   5   5   5   5   5   5   5   5   5   5   \n",
      "E   7   7   7   7   7   7   7   7   7   7   7   7   7   7   7   7   7   7   7   \n",
      "G  13  13  13  13  13  13  13  13  13  13  13  13  13  13  13  13  13  13  12   \n",
      "H   5   5   5   5   5   5   5   5   5   5   5   5   5   5   5   5   5   5   4   \n",
      "I   5   5   5   5   5   5   5   5   5   5   5   5   5   5   5   5   5   5   5   \n",
      "L  12  12  12  12  12  12  12  12  12  12  12  12  12  12  12  12  12  12  12   \n",
      "K  12  11  12  11  11  11  11  11  11  12  11  12  11  12  12  12  12  11  11   \n",
      "M   2   2   2   2   2   2   2   2   2   2   2   2   2   2   2   2   2   2   2   \n",
      "F   6   6   6   6   6   6   6   6   6   6   6   6   6   6   6   6   6   6   6   \n",
      "P   8   7   8   7   7   7   7   7   7   8   7   8   7   8   8   8   8   7   7   \n",
      "S  10  10  10  10  10  10  10  10  10  10  10  10  10  10  10  10  10  10  10   \n",
      "T   8   8   8   8   8   8   8   8   8   8   8   9   8   9   9   8   9   8   8   \n",
      "W   1   1   1   1   1   1   1   1   1   1   1   1   1   1   1   1   1   1   1   \n",
      "Y   4   4   4   4   4   4   4   4   4   4   4   4   4   4   4   4   4   4   4   \n",
      "V   9   9   9   9   9   9   9   9   9   9   9   9   9   9   9   9   9   9   9   \n",
      "\n",
      "    V  \n",
      "A  12  \n",
      "R   6  \n",
      "N   6  \n",
      "D   7  \n",
      "C   5  \n",
      "Q   5  \n",
      "E   7  \n",
      "G  13  \n",
      "H   5  \n",
      "I   5  \n",
      "L  12  \n",
      "K  11  \n",
      "M   2  \n",
      "F   6  \n",
      "P   8  \n",
      "S  10  \n",
      "T   8  \n",
      "W   1  \n",
      "Y   4  \n",
      "V   9  \n"
     ]
    }
   ],
   "source": [
    "import csv\n",
    "import numpy as np\n",
    "import pandas as pd\n",
    "\n",
    "\n",
    "def create_PAM(file, x):\n",
    "    \"\"\"\n",
    "    crée la matrice PAMx à partir de la matrice PAM1 se trouvant dans le file\n",
    "    :param file: PAM1 csv file\n",
    "    :param x: the power of PAM to create PAMx\n",
    "    :return: None\n",
    "    \"\"\"\n",
    "    pam1 = []\n",
    "    with open(file, 'r') as csvfile:\n",
    "        filereader = csv.reader(csvfile, delimiter=',')\n",
    "        for row in filereader:\n",
    "            pam1.append(row[1:])   # on remplit pam1 en supprimant la première colonne\n",
    "    headers = pam1.pop(0)  # on strocke la premiere ligne et elle est supprimé de pam1\n",
    "    pam1 = np.array(pam1) # on crée un tableau de valeurs de classe string\n",
    "    pam1 = pam1.astype(np.float) # on convertit nos valeurs string en float\n",
    "    pam1 = np.divide(pam1, 10000) # on divise toutes les valeurs de la matrice par 10000\n",
    "    PAMx = np.linalg.matrix_power(pam1, x)  # PAMx = pam1 à la puissance x\n",
    "    PAMx = np.multiply(PAMx, 100)  # on divise toutes les valeurs de la matrice par 10000\n",
    "    PAMx = np.around(PAMx) # on arrondit les valeurs \n",
    "    PAMx = PAMx.astype(np.int) # on convertit en entier pour un meilleur affichage\n",
    "    print(pd.DataFrame(PAMx, index=headers, columns=headers)) # on affiche les valeurs\n",
    "                                                              # de PAMx et les headers\n",
    "\n",
    "\n",
    "\n",
    "create_PAM('/home/guiom/Téléchargements/pam1.csv', 10000)"
   ]
  },
  {
   "cell_type": "code",
   "execution_count": null,
   "metadata": {
    "collapsed": true
   },
   "outputs": [],
   "source": []
  }
 ],
 "metadata": {
  "kernelspec": {
   "display_name": "Python 3",
   "language": "python",
   "name": "python3"
  },
  "language_info": {
   "codemirror_mode": {
    "name": "ipython",
    "version": 3
   },
   "file_extension": ".py",
   "mimetype": "text/x-python",
   "name": "python",
   "nbconvert_exporter": "python",
   "pygments_lexer": "ipython3",
   "version": "3.6.2"
  }
 },
 "nbformat": 4,
 "nbformat_minor": 2
}
