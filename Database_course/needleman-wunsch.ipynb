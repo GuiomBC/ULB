{
 "cells": [
  {
   "cell_type": "markdown",
   "metadata": {},
   "source": [
    "<h1><center>Needleman-Wunsch</center></h1>\n",
    "\n",
    "\n",
    "On va donc créer l'algorithme Needleman-Wunsch qui effectue un alignement global. Le but est donc de trouver l'alignement de score maximal."
   ]
  },
  {
   "cell_type": "code",
   "execution_count": 1,
   "metadata": {
    "collapsed": true
   },
   "outputs": [],
   "source": [
    "import numpy as np\n",
    "import pandas as pd\n",
    "import random\n",
    "import math\n",
    "from Bio.SubsMat import MatrixInfo"
   ]
  },
  {
   "cell_type": "markdown",
   "metadata": {},
   "source": [
    "La fonction suivante est créée car dans l'import des matrices BLOSUM, les dico ne contiennent pas les couples à l'envers,\n",
    "on a AB et non AA par exemple."
   ]
  },
  {
   "cell_type": "code",
   "execution_count": 2,
   "metadata": {
    "collapsed": true
   },
   "outputs": [],
   "source": [
    "def score_pair(a, b, matrix):\n",
    "    \"\"\"\n",
    "    retourne le score d'un couple d'aa peu importe l'ordre des aa (on les inverse si besoin)\n",
    "    :param a\n",
    "    :param\n",
    "    :param\n",
    "    :return\n",
    "    \"\"\"\n",
    "    if (a, b) not in matrix:\n",
    "        return matrix[(b, a)]\n",
    "    else:\n",
    "        return matrix[(a, b)]"
   ]
  },
  {
   "cell_type": "code",
   "execution_count": 3,
   "metadata": {
    "collapsed": true
   },
   "outputs": [],
   "source": [
    "def show_matrix(matrix, seq1, seq2):\n",
    "    '''\n",
    "    affiche le contenu de matrix avec les header: seq1 verticalement et seq2 horizontalement\n",
    "    :param matrix: une matrice à afficher\n",
    "    :param seq1: string \n",
    "    :param seq2: string\n",
    "    :return: None\n",
    "    '''\n",
    "    # Convertit les chaînes de caractères en listes et ajoute un espace au début à cause de la ligne et la colonne d'init\n",
    "    line = list(seq1)\n",
    "    line.insert(0, ' ')\n",
    "    column = list(seq2)\n",
    "    column.insert(0, ' ')\n",
    "    # Print the dataframe with the previous line and column\n",
    "    print(pd.DataFrame(matrix, index=line, columns=column))"
   ]
  },
  {
   "cell_type": "code",
   "execution_count": 4,
   "metadata": {
    "collapsed": true
   },
   "outputs": [],
   "source": [
    "def create_matrix(seq1, seq2, gap_penalty, dict_vals):\n",
    "    \"\"\"\n",
    "    crée la matrice remplie des scores \n",
    "    :param seq1: sequence 1 -> string\n",
    "    :param seq2: sequence 2 -> string\n",
    "    :param gap_penalty: un entier\n",
    "    :param dict_vals: un dico correspondant à la matrice de substitution\n",
    "    :return nw\n",
    "    \"\"\"\n",
    "    line = list(seq1)\n",
    "    line.insert(0, ' ')\n",
    "    column = list(seq2)\n",
    "    column.insert(0, ' ')\n",
    "    \n",
    "    # On créé la matrice qui est de la taille de nos sequences plus un (ligne et colonne d'initialisation)\n",
    "    nw = np.zeros((len(seq1)+1, len(seq2)+1), dtype=np.int)\n",
    "    # On remplit la première ligne et la première colonne\n",
    "    for i in range(nw.shape[0]):\n",
    "        nw[i][0] = gap_penalty * i\n",
    "    for i in range(nw.shape[1]):\n",
    "        nw[0][i] = gap_penalty * i\n",
    "    \n",
    "    # On remplit le reste de la matrice\n",
    "    for i in range(1, nw.shape[0]):\n",
    "        for j in range(1, nw.shape[1]):\n",
    "            nw[i][j] = max(nw[i-1][j] + gap_penalty,  # case du dessus plus pénalité\n",
    "                           nw[i][j-1] + gap_penalty,  # case de gauche plus pénalité\n",
    "                           nw[i-1][j-1] + score_pair(line[i], column[j], dict_vals))  # case de diagonale (supérieure\n",
    "                                                                                      # gauche) plus le score récupéré\n",
    "                                                                                      # dans notre dictionnaire\n",
    "    # On retourne la matrice que l'on vient de créer\n",
    "    return nw"
   ]
  },
  {
   "cell_type": "code",
   "execution_count": 5,
   "metadata": {
    "collapsed": true
   },
   "outputs": [],
   "source": [
    "def get_track(matrix):\n",
    "    \"\"\"\n",
    "    permet de faire le track-back dans la matrice afin d'enregistrer le chemin\n",
    "    :param matrix: la matrice remplie des scores\n",
    "    :return track_back est une liste de couples de tuples\n",
    "    \"\"\"\n",
    "    i, j = matrix.shape[0]-1, matrix.shape[1]-1  # Initialisation des indices en bas et à droite de la matrice\n",
    "    track_back = [(i, j)]  # Insertion du dernier élément en bas à droite\n",
    "    while i != 0 and j != 0:\n",
    "        if i == 0:  # Si on conserve la ligne...\n",
    "            j -= 1  # on décrémente seulement l'indice de la colonne\n",
    "        elif j == 0:  # Si on conserve la colonne\n",
    "            i -= 1    # on décrémente seulement l'indice de la ligne\n",
    "        else:                           \n",
    "            left = matrix[i][j-1]\n",
    "            right = matrix[i-1][j]\n",
    "            if left + gap_penalty == matrix[i][j]:\n",
    "                j -= 1\n",
    "            elif right + gap_penalty == matrix[i][j]:\n",
    "                i -= 1\n",
    "            else:\n",
    "                i -= 1\n",
    "                j -= 1\n",
    "        track_back.insert(0, (i, j))  # Insertion du nouvel élément en tête de notre liste\n",
    "    track_back.insert(0, (0, 0))  # Insertion du premier élément en haut à gauche\n",
    "    \n",
    "    return track_back"
   ]
  },
  {
   "cell_type": "code",
   "execution_count": 6,
   "metadata": {
    "collapsed": true
   },
   "outputs": [],
   "source": [
    "def show_result(trace, seq2, seq1):\n",
    "    \"\"\"\n",
    "    permet d'afficher les résultats de l'alignement sur 3 lignes\n",
    "    :param trace: liste de couples de tuples représentant le chemin\n",
    "    :param seq1 -> string\n",
    "    :param seq2 -> string\n",
    "    :return None\n",
    "    \"\"\"\n",
    "    # Définition des pipes avec couleurs pour l'affichage, \\x1b[0m correspond à noir et permet de réinitialiser la couleur  \n",
    "    pipe_green, pipe_blue, pipe_red = '\\x1b[32m|\\x1b[0m', '\\x1b[34m|\\x1b[0m', '\\x1b[31m|\\x1b[0m'\n",
    "    # Initialisation des lignes que l'on affichera\n",
    "    line1, line2, line3 = [], [], []\n",
    "    # Initialistion des indices correspondant aux aa déjà utilisés dans nos séquences\n",
    "    next_char_in_seq1 = 0\n",
    "    next_char_in_seq2 = 0\n",
    "    \n",
    "    # Pour chaque couple d'indices dans notre trace\n",
    "    for index in range(len(trace)-1):\n",
    "        # On récupère les valeurs actuelles lignes et colonnes...\n",
    "        i1, j1 = trace[index]\n",
    "        # ... ainsi que les valeurs précédentes\n",
    "        i2, j2 = trace[index+1]\n",
    "        if i1 == i2:  # Si la ligne est inchangée, on introduit un gap dans la colonne (seq2)\n",
    "            line1.append(seq1[next_char_in_seq1])  # On ajoute l'aa à la ligne (seq1)\n",
    "            line2.append(pipe_green)               # On ajoute le pipe de couleur verte\n",
    "            line3.append('-')                      # On introduit le gap\n",
    "            next_char_in_seq1 += 1                 # On incrémente la liste d'aa disponible pour la ligne\n",
    "        elif j1 == j2: # Si la colonne est inchangée, on introduit un gap dans la ligne (seq1)\n",
    "            line1.append('-')                      # On introduit le gap\n",
    "            line2.append(pipe_red)                 # On ajoute le pipe rouge\n",
    "            line3.append(seq2[next_char_in_seq2])  # On ajoute l'aa à la colonne (seq2)\n",
    "            next_char_in_seq2 += 1                 # On incrémente la liste d'aa disponible pour la colonne\n",
    "        else:          # Sinon, colonne et ligne changent\n",
    "            line1.append(seq1[next_char_in_seq1])  # On ajoute l'aa à la ligne (seq1)\n",
    "            line2.append(pipe_blue)                # Ajout du pipe bleu\n",
    "            line3.append(seq2[next_char_in_seq2])  # On ajoute l'aa à la colonne (seq2)\n",
    "            next_char_in_seq1 += 1                 # On incrémente la liste d'aa disponible pour la ligne\n",
    "            next_char_in_seq2 += 1                 # On incrémente la liste d'aa disponible pour la colonne\n",
    "    \n",
    "    # Affiche des lignes crééent précedemment avec un espace entre les caractères\n",
    "    print(' '.join(line1))\n",
    "    print(' '.join(line2))\n",
    "    print(' '.join(line3))"
   ]
  },
  {
   "cell_type": "code",
   "execution_count": 7,
   "metadata": {
    "collapsed": true
   },
   "outputs": [],
   "source": [
    "def compute_z(score_reel, score_list_random_sequence):\n",
    "    \"\"\"\n",
    "    Permet de calculer le z-score\n",
    "    :param score_reel (dernière ligne, dernière colonne) -> int\n",
    "    :param score_list_random_sequence est une liste de scores obtenue avec le shuffle des 2 séquences\n",
    "    :return Z-score\n",
    "    \"\"\"\n",
    "    mu = sum(score_list_random_sequence)/len(score_list_random_sequence)\n",
    "    sigma = 0\n",
    "    for s in score_list_random_sequence:\n",
    "        sigma += (s - mu)**2\n",
    "    sigma = math.sqrt((1/len(score_list_random_sequence))*sigma)\n",
    "    \n",
    "    return (score_reel - mu)/sigma"
   ]
  },
  {
   "cell_type": "markdown",
   "metadata": {},
   "source": [
    "# programme (main)"
   ]
  },
  {
   "cell_type": "code",
   "execution_count": 19,
   "metadata": {},
   "outputs": [
    {
     "name": "stdout",
     "output_type": "stream",
     "text": [
      "        M   G   G   E   T   F   A\n",
      "    0  -4  -8 -12 -16 -20 -24 -28\n",
      "G  -4  -3   2  -2  -6 -10 -14 -18\n",
      "G  -8  -7   3   8   4   0  -4  -8\n",
      "V -12  -7  -1   4   6   4   0  -4\n",
      "T -16 -11  -5   0   3  11   7   3\n",
      "T -20 -15  -9  -4  -1   8   9   7\n",
      "F -24 -19 -13  -8  -5   4  14  10\n",
      "\n",
      "M G G - E T F A\n",
      "\u001b[32m|\u001b[0m \u001b[34m|\u001b[0m \u001b[34m|\u001b[0m \u001b[31m|\u001b[0m \u001b[34m|\u001b[0m \u001b[34m|\u001b[0m \u001b[34m|\u001b[0m \u001b[32m|\u001b[0m\n",
      "- G G V T T F -\n",
      "\n",
      "z_score = 1.2682783701546312\n"
     ]
    }
   ],
   "source": [
    "# Original\n",
    "seq_input_1 = 'GGVTTF'\n",
    "seq_input_2 = 'MGGETFA'\n",
    "gap_penalty = -4\n",
    "blosum = MatrixInfo.blosum62  #on peut changer le 62 par 50 ou autre\n",
    "nw = create_matrix(seq_input_1, seq_input_2, gap_penalty, blosum)\n",
    "show_matrix(nw, seq_input_1, seq_input_2)\n",
    "\n",
    "print()\n",
    "trace = get_track(nw)\n",
    "\n",
    "show_result(trace, seq_input_1, seq_input_2)\n",
    "\n",
    "# Shuffle\n",
    "list_of_score_for_random_sequences = []\n",
    "for _ in range(10000):\n",
    "    seq_input_1_shuffle = ''.join(random.sample(seq_input_1,len(seq_input_1)))\n",
    "    seq_input_2_shuffle = ''.join(random.sample(seq_input_2,len(seq_input_2)))\n",
    "    nw_shuffle = create_matrix(seq_input_1_shuffle, seq_input_2_shuffle, gap_penalty, blosum)\n",
    "\n",
    "    list_of_score_for_random_sequences.append(nw_shuffle[nw_shuffle.shape[0]-1][nw_shuffle.shape[1]-1])\n",
    "\n",
    "z = compute_z(nw[nw.shape[0]-1][nw.shape[1]-1], list_of_score_for_random_sequences)\n",
    "\n",
    "print()\n",
    "print('z_score =', z)"
   ]
  },
  {
   "cell_type": "markdown",
   "metadata": {},
   "source": [
    "On se rend compte que si on utilise une BLOSUM50 car on a 50% d'identité entre les deux séquences, le z_score s'améliore et passe à 1.44 (plus grand). En effet, Le score réel doit être le plus grand possible puisque c'est le but de l'algorithme et il doit donc être supérieur à la moyenne des scores d'alignement de sequences mélangées. Pour cette raison, notre z_score doit être le plus grand possible pour être le meilleur possible puisque la formule est z_score= (score réel - moy des scores des sequences mélangées)/écart type. Evidemment,nos séquences sont courtes et un pourcentage d'identité sur des séquences aussi courtes est peu significatif ce qui ici ne permet pas de voir de gros écart de z_score en changeant de matrice de substitution. Si on change la pénalité de gap en mettant une valeur positive (ça n'a pas de sens biologique, je sais), on voit un alignement différent avec plus de gaps, ces derniers étant très favorisés et un z_score supérieur. Si la gap pénalité est de -10, on a un seul gap au lieu de deux et un z-score inférieur. Il ne faut donc pas avoir une pénalité de gap positive car ça n'a pas de sens biologique bien que le z_score soit augmenté et en diminuant la pénalité, on diminue le z_score ce qui n'est pas non plus bon. "
   ]
  }
 ],
 "metadata": {
  "kernelspec": {
   "display_name": "Python 3",
   "language": "python",
   "name": "python3"
  },
  "language_info": {
   "codemirror_mode": {
    "name": "ipython",
    "version": 3
   },
   "file_extension": ".py",
   "mimetype": "text/x-python",
   "name": "python",
   "nbconvert_exporter": "python",
   "pygments_lexer": "ipython3",
   "version": "3.6.2"
  }
 },
 "nbformat": 4,
 "nbformat_minor": 2
}
