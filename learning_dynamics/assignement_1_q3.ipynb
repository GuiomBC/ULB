{
 "cells": [
  {
   "cell_type": "markdown",
   "metadata": {},
   "source": [
    "<center> <h1>[INFO-F409] Learning Dynamics</h1> </center>\n",
    "\n",
    "<center> <h2>Assignment 1: Game theory</h2> </center>\n",
    " \n",
    "<center> <h3>Guillaume Buisson-Chavot</h3> </center> \n",
    "<center> <h3>ULB 000465822 </h3> </center> "
   ]
  },
  {
   "cell_type": "markdown",
   "metadata": {},
   "source": [
    "# The Hawk-Dove game (3 pts):\n",
    "3. Validate your results using NashPy. You may use the example provided in\n",
    "the CGT-Exercise.ipynb. Indicate here the Nash equilibria found for V=2,\n",
    "D=3 and T = 1."
   ]
  },
  {
   "cell_type": "code",
   "execution_count": 9,
   "metadata": {},
   "outputs": [
    {
     "data": {
      "application/vnd.jupyter.widget-view+json": {
       "model_id": "e4779853ab724f21ad784318f2553583",
       "version_major": 2,
       "version_minor": 0
      },
      "text/plain": [
       "interactive(children=(FloatSlider(value=2.0, description='V', max=10.0, min=-10.0), FloatSlider(value=3.0, des…"
      ]
     },
     "metadata": {},
     "output_type": "display_data"
    }
   ],
   "source": [
    "import nashpy as nash\n",
    "import numpy as np\n",
    "from ipywidgets import interact, FloatSlider\n",
    "\n",
    "def hawk_dove_game_equilibria(V, D, T):\n",
    "    \"\"\"\n",
    "    This function returns the Nash equilibria of\n",
    "    a Hawk-Dove game with its payoff matrix being a\n",
    "    function of V, D and T.\n",
    "    \"\"\"\n",
    "    # payoff matrix for the row player\n",
    "    hg_matrix_row = np.array([\n",
    "        [ (V-D)/2, V],\n",
    "        [ 0      , (V/2) - T],\n",
    "    ])\n",
    "    # payoff matrix for the column player\n",
    "    hg_matrix_col = hg_matrix_row.T\n",
    "    \n",
    "    # Create game\n",
    "    game = nash.Game(hg_matrix_row, hg_matrix_col)\n",
    "    \n",
    "    # Find all equilibria\n",
    "    return list(game.support_enumeration())\n",
    "\n",
    "\n",
    "\n",
    "@interact(V=FloatSlider(min=-10, max=10, step=0.1, value=2), \n",
    "          D=FloatSlider(min=-10, max=10, step=0.1, value=3), \n",
    "          T=FloatSlider(min=-10, max=10, step=0.1, value=1))\n",
    "def show_articles_more_than(V=2, D=3, T=1):\n",
    "    return hawk_dove_game_equilibria(V, D, T)"
   ]
  },
  {
   "cell_type": "markdown",
   "metadata": {},
   "source": [
    "# Evolutionary Dynamics in the Hawk-Dove game (4 pts)\n",
    "\n",
    "For this exercise, you will need to use the code provided to you, and follow the\n",
    "CGT-Exercise.ipynb. Here, you are going to study the evolutionary dynamics of\n",
    "the Hawk-Dove game both in infinite and finite populations.\n",
    "\n",
    "\n",
    "1. Plot the gradient of selection for infinite populations, explain which\n",
    "saddle points are stable and which aren’t, and why. Do the results here\n",
    "agree with those found in Exercise 1? Do you expect any changes if the\n",
    "population is finite?"
   ]
  },
  {
   "cell_type": "code",
   "execution_count": 10,
   "metadata": {},
   "outputs": [
    {
     "data": {
      "image/png": "[encoded data removed]",
      "text/plain": [
       "<Figure size 360x288 with 1 Axes>"
      ]
     },
     "metadata": {
      "needs_background": "light"
     },
     "output_type": "display_data"
    }
   ],
   "source": [
    "import numpy as np\n",
    "import matplotlib.pyplot as plt\n",
    "from egttools.analytical import replicator_equation\n",
    "from egttools.utils import find_saddle_type_and_gradient_direction\n",
    "from egttools.plotting import plot_gradient\n",
    "\n",
    "\n",
    "nb_points = 101\n",
    "strategy_i = np.linspace(0, 1, num=nb_points, dtype=np.float64)\n",
    "strategy_j = 1 - strategy_i\n",
    "states = np.array((strategy_i,strategy_j)).T\n",
    "\n",
    "# Payoff matrix\n",
    "V = 2; D = 3; T = 1\n",
    "A = np.array([\n",
    "        [ (V-D)/2, V],\n",
    "        [ 0      , (V/2) - T],\n",
    "    ])\n",
    "\n",
    "\n",
    "\n",
    "# Calculate gradient\n",
    "G = np.array([replicator_equation(states[i], A)[0] for i in range(len(states))])\n",
    "\n",
    "\n",
    "\n",
    "# Find saddle points (where the gradient is 0)\n",
    "epsilon = 1e-7\n",
    "saddle_points_idx = np.where((G <= epsilon) & (G >= -epsilon))[0]\n",
    "saddle_points = saddle_points_idx / (nb_points - 1)\n",
    "\n",
    "# Now let's find which saddle points are absorbing/stable and which aren't\n",
    "# we also annotate the gradient's direction among saddle poinst\n",
    "saddle_type, gradient_direction = find_saddle_type_and_gradient_direction(G, saddle_points_idx)\n",
    "\n",
    "\n",
    "\n",
    "ax = plot_gradient(strategy_i, \n",
    "                   G, \n",
    "                   saddle_points, \n",
    "                   saddle_type, \n",
    "                   gradient_direction,\n",
    "                   'Hawk-Dove game on Infinite populations', \n",
    "                   xlabel='$x$')\n",
    "plt.show()\n",
    "\n",
    "\n"
   ]
  },
  {
   "cell_type": "code",
   "execution_count": 4,
   "metadata": {},
   "outputs": [
    {
     "name": "stdout",
     "output_type": "stream",
     "text": [
      "saddle_points: [0.  0.8 1. ]\n"
     ]
    }
   ],
   "source": [
    "print('saddle_points:', saddle_points)"
   ]
  },
  {
   "cell_type": "markdown",
   "metadata": {},
   "source": []
  }
 ],
 "metadata": {
  "kernelspec": {
   "display_name": "Python 3",
   "language": "python",
   "name": "python3"
  },
  "language_info": {
   "codemirror_mode": {
    "name": "ipython",
    "version": 3
   },
   "file_extension": ".py",
   "mimetype": "text/x-python",
   "name": "python",
   "nbconvert_exporter": "python",
   "pygments_lexer": "ipython3",
   "version": "3.7.6"
  }
 },
 "nbformat": 4,
 "nbformat_minor": 4
}
