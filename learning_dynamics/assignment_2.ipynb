{
 "cells": [
  {
   "cell_type": "markdown",
   "metadata": {},
   "source": [
    "<p style=\"text-align:center\";> <Font size=+3> **Assignment 2: Evolutionary dynamics on Complex Networks** </p> </font>\n",
    "<p style=\"text-align:center\";> <Font size=+2> **Buisson-Chavot Guillaume - ULB - Bioinformatics** </p> </font>\n",
    "\n",
    "\n",
    "\n",
    "## **Part I - Complex Networks** \n",
    "### **1) Generate Erdos-Renye network (Random networks) [1,2]:**\n",
    "**For a size of the network of N=10000, calculate a K so that each node has in average degree 4.**\n",
    "\n",
    "Here are the different libraries used for the assignment."
   ]
  },
  {
   "cell_type": "code",
   "execution_count": 20,
   "metadata": {},
   "outputs": [],
   "source": [
    "import numpy as np\n",
    "from random import randint, choice, choices\n",
    "import matplotlib.pyplot as plt\n",
    "import math\n",
    "from scipy.optimize import curve_fit"
   ]
  },
  {
   "cell_type": "markdown",
   "metadata": {},
   "source": [
    "Here are the different libraries used for the assignment."
   ]
  },
  {
   "cell_type": "code",
   "execution_count": 2,
   "metadata": {},
   "outputs": [],
   "source": [
    "def generation(number_of_nodes, number_of_edges=0, print_generated_matrix=False):\n",
    "    matrix = np.zeros((number_of_nodes, number_of_nodes), dtype = np.bool_)\n",
    "\n",
    "    actual_nodes = 0\n",
    "    while actual_nodes <= number_of_edges-1:\n",
    "        x = randint(0, number_of_nodes-1)\n",
    "        y = randint(0, number_of_nodes-1)\n",
    "        if x != y:\n",
    "            if matrix[x,y] == False:\n",
    "                matrix[x,y] = True\n",
    "                matrix[y,x] = True\n",
    "                actual_nodes += 1\n",
    "\n",
    "    if print_generated_matrix:\n",
    "        print(matrix)\n",
    "\n",
    "    return matrix"
   ]
  },
  {
   "cell_type": "code",
   "execution_count": 3,
   "metadata": {},
   "outputs": [],
   "source": [
    "def add_edge(matrix):\n",
    "    edge_added = False\n",
    "    while edge_added is False:\n",
    "        x = randint(0, matrix.shape[0]-1)\n",
    "        y = randint(0, matrix.shape[0]-1)\n",
    "        if x != y:\n",
    "            if matrix[x,y] == False:\n",
    "                matrix[x,y] = True\n",
    "                matrix[y,x] = True\n",
    "                edge_added = True\n",
    "    return matrix"
   ]
  },
  {
   "cell_type": "code",
   "execution_count": 4,
   "metadata": {},
   "outputs": [],
   "source": [
    "def average_degree(matrix):\n",
    "    degree = np.count_nonzero(matrix)/matrix.shape[0]\n",
    "    return degree"
   ]
  },
  {
   "cell_type": "code",
   "execution_count": 5,
   "metadata": {},
   "outputs": [],
   "source": [
    "def ErdosRenye(matrix, expected_degree=4):\n",
    "    print('Calulating edges required for an average of degree equals to ', expected_degree)\n",
    "    myDegree = average_degree(matrix)\n",
    "    while myDegree < 4:\n",
    "        matrix = add_edge(matrix)\n",
    "        newDegree = average_degree(matrix)\n",
    "        if myDegree != newDegree:\n",
    "            print('\\tactual avg degree = ', newDegree, end=\"\\r\")\n",
    "        myDegree = newDegree\n",
    "    print()\n",
    "    number_of_edges = math.floor( np.count_nonzero(matrix)/2 )\n",
    "    print('Matrix has ', number_of_edges, ' edges.')\n",
    "    return matrix, number_of_edges\n",
    "\n"
   ]
  },
  {
   "cell_type": "markdown",
   "metadata": {},
   "source": [
    "Above is the function which allows to calculate a K so that each node has in average degree 4 for a size of the network of N=10000. The result is written in the output of the main code below and K = 20 000 edges, "
   ]
  },
  {
   "cell_type": "markdown",
   "metadata": {},
   "source": [
    "**Present/describe the code you used to generate the network in your document (use pseudo-code notation)**"
   ]
  },
  {
   "cell_type": "raw",
   "metadata": {},
   "source": [
    "Pseudo-code to describe the Erdos-Renye algorithm:\n",
    "generate N nodes\n",
    "while number of edges smaller than K:\n",
    "    select on node (pseudo) randomly \n",
    "    select a second node (pseudo) randomly different from the first\n",
    "    if edge between the two nodes doen't exists:\n",
    "        add edge between the two nodes"
   ]
  },
  {
   "cell_type": "markdown",
   "metadata": {},
   "source": [
    "### **2) Plot the degree distribution of the generated network. Calculate the mean and standard deviation and plot the normal distribution with these same parameters (or in the other word fit the distribution with a Gaussian using Maximum likelihood method)**."
   ]
  },
  {
   "cell_type": "code",
   "execution_count": 6,
   "metadata": {},
   "outputs": [],
   "source": [
    "def plot_degree_distribution(matrix, print_values=False):\n",
    "    print('Plotting degree distribution')\n",
    "    # 1 dimension matrix containing the number of edges for each node\n",
    "    number_of_edges_for_each_node = (matrix != False).sum(0)\n",
    "    uniq, _ = np.unique(number_of_edges_for_each_node, return_counts=True)\n",
    "    bins = np.arange(uniq.max()+2) - 0.5\n",
    "    if print_values:\n",
    "        print('bins   : ', bins)\n",
    "    count, _ = np.histogram(number_of_edges_for_each_node, bins) # add density=True\n",
    "    if print_values:\n",
    "        print('Degrees: ', [range(uniq.max()+1)])\n",
    "        print('Count  : ', count)\n",
    "    #plt.scatter(uniq, count/sum(count))\n",
    "    plt.scatter([range(uniq.max()+1)], count, label = 'Degree distribution')\n",
    "    plt.xlabel('Degrees')\n",
    "    plt.ylabel('Count')\n",
    "    #plt.title('Degree distribution')\n",
    "    #plt.show()\n",
    "    return uniq, count, number_of_edges_for_each_node"
   ]
  },
  {
   "cell_type": "markdown",
   "metadata": {},
   "source": [
    "Above is the function which plot the degree distribution."
   ]
  },
  {
   "cell_type": "code",
   "execution_count": 7,
   "metadata": {},
   "outputs": [],
   "source": [
    "def plot_normal_distribution(mean, standard_deviation, number_of_nodes, edges_uniq_values, print_values=False):\n",
    "    print('Plotting normal distribution')\n",
    "    x = np.random.normal(mean, standard_deviation, number_of_nodes)\n",
    "    bins = np.arange(edges_uniq_values.max()+2) - 0.5\n",
    "    if print_values:\n",
    "        print('bins   : ', bins)\n",
    "    count, uniq = np.histogram(x, bins) # add density=True\n",
    "    if print_values:\n",
    "        print('Degrees: ', [range(edges_uniq_values.max()+1)])\n",
    "        print('Count  : ', count)\n",
    "    plt.scatter([range(edges_uniq_values.max()+1)], count, label = 'Normal distribution')\n",
    "    #plt.xlabel('x')\n",
    "    #plt.ylabel('y')\n",
    "    #plt.title('Normal distribution')\n",
    "    plt.legend()\n",
    "    #plt.show()"
   ]
  },
  {
   "cell_type": "markdown",
   "metadata": {},
   "source": [
    "Above is the function which plot the normal distribution in order to fit our degree distribution."
   ]
  },
  {
   "cell_type": "code",
   "execution_count": 22,
   "metadata": {
    "scrolled": true
   },
   "outputs": [
    {
     "name": "stdout",
     "output_type": "stream",
     "text": [
      "Starting generation for ErdosRenye\n",
      "Calulating edges required for an average of degree equals to  4\n",
      "\tactual avg degree =  4.09980.35840.91120.96341.79683.23583.7886\n",
      "Matrix has  20000  edges.\n",
      "Plotting degree distribution\n",
      "mean:  4.0\n",
      "Standard deviation:  1.998999749874922\n",
      "Plotting normal distribution\n"
     ]
    },
    {
     "data": {
      "image/png": "[encoded data removed]",
      "text/plain": [
       "<Figure size 432x288 with 1 Axes>"
      ]
     },
     "metadata": {
      "needs_background": "light"
     },
     "output_type": "display_data"
    }
   ],
   "source": [
    "number_of_nodes = 10000\n",
    "\n",
    "print('Starting generation for ErdosRenye')\n",
    "starting_number_of_edges = 0\n",
    "\n",
    "matrix = generation(number_of_nodes, starting_number_of_edges)\n",
    "\n",
    "matrix_ErdosRenye, number_of_edges = ErdosRenye(matrix)\n",
    "\n",
    "edges_uniq_values, count, number_of_edges_for_each_node = plot_degree_distribution(matrix_ErdosRenye)\n",
    "\n",
    "mean = average_degree(matrix_ErdosRenye)\n",
    "standard_deviation = np.std(number_of_edges_for_each_node)\n",
    "print('mean: ', mean)\n",
    "print('Standard deviation: ', standard_deviation)\n",
    "\n",
    "plot_normal_distribution(mean, standard_deviation, number_of_nodes, edges_uniq_values)\n",
    "plt.show()"
   ]
  },
  {
   "cell_type": "markdown",
   "metadata": {},
   "source": [
    "Above is the main code and the plots of the degree distribution and the corresponding normal distribution. \n",
    "We have Mean = 4 and Standard deviation = 1.99899975"
   ]
  },
  {
   "cell_type": "markdown",
   "metadata": {},
   "source": [
    "### **3) Generate a Barabasi-Albert network (Scale Free network):**"
   ]
  },
  {
   "cell_type": "code",
   "execution_count": 21,
   "metadata": {
    "scrolled": true
   },
   "outputs": [
    {
     "name": "stdout",
     "output_type": "stream",
     "text": [
      "Starting generation for Barabasi-Albert\n"
     ]
    }
   ],
   "source": [
    "def add_one_node_and_edges(matrix, number_of_edges_to_add):\n",
    "    actual_size = matrix.shape[0]\n",
    "    number_of_edges_for_each_node = (matrix != False).sum(0)\n",
    "    sum_of_degrees = np.count_nonzero(matrix)\n",
    "    column_to_add = np.zeros((actual_size), dtype = np.bool_)\n",
    "    line_to_add = np.zeros((actual_size + 1), dtype = np.bool_)\n",
    "    matrix = np.hstack(( matrix, np.atleast_2d(column_to_add).T ))\n",
    "    matrix = np.vstack(( matrix, line_to_add ))\n",
    "\n",
    "    # Add edges with given probability\n",
    "    edge_added = 0\n",
    "    while edge_added < number_of_edges_to_add:\n",
    "        xk = randint(0, sum_of_degrees)\n",
    "        x = 0\n",
    "        my_sum = number_of_edges_for_each_node[0]\n",
    "        while my_sum < xk:\n",
    "            x += 1\n",
    "            my_sum += number_of_edges_for_each_node[x]\n",
    "        if matrix[x,actual_size] == False:\n",
    "            matrix[x,actual_size] = True\n",
    "            matrix[actual_size,x] = True\n",
    "            edge_added += 1\n",
    "\n",
    "    return matrix\n",
    "\n",
    "def BarabasiAlbert(matrix, number_of_expected_nodes):\n",
    "    print('Adding nodes until nodes reach ', number_of_expected_nodes)\n",
    "    nodes_begin = matrix.shape[0]\n",
    "\n",
    "    while matrix.shape[0] < number_of_expected_nodes:\n",
    "        nodes_actual = matrix.shape[0]\n",
    "        nodes_calculated = 1 if nodes_actual - nodes_begin == 0 else nodes_actual - nodes_begin\n",
    "        nodes_remaining = number_of_expected_nodes - nodes_actual\n",
    "        matrix = add_one_node_and_edges(matrix, 4)\n",
    "\n",
    "    return matrix\n",
    "\n",
    "\n",
    "print('Starting generation for Barabasi-Albert')\n",
    "matrix = generation(5)\n",
    "for i in range(4):\n",
    "    matrix[4][i] = True\n",
    "    matrix[i][4] = True\n",
    "\n",
    "#matrix_BarabasiAlbert = np.load('BarabasiAlbertMatrix.npy')\n",
    "matrix_BarabasiAlbert = BarabasiAlbert(matrix, number_of_nodes)"
   ]
  },
  {
   "cell_type": "markdown",
   "metadata": {},
   "source": [
    "**Present/describe the code you used to generate the network in your document (use pseudo-code notation)**"
   ]
  },
  {
   "cell_type": "raw",
   "metadata": {},
   "source": [
    "Pseudo-code to describe the Barabasi-Albert algorithm:\n",
    "generate 4 disconnected nodes\n",
    "add one node and connect this one to the 4 others nodes\n",
    "while number of nodes smaller than number of expected nodes:\n",
    "    generate a new node\n",
    "    liste of probabilities = degree for each node/ sum of degrees\n",
    "    number of edges for the new node = 0\n",
    "    while number of edges for the new node smaller than 4:\n",
    "        select the node whith the higher probability of the liste\n",
    "        add an edge with this node\n",
    "        number of edge of the new node +=1"
   ]
  },
  {
   "cell_type": "markdown",
   "metadata": {},
   "source": [
    "### **4) Plot the degree distribution of the generated network using a linear scale on both axes. Plot in the same figure an exponential distribution which looks similar and reports on the parameters of that distribution.**"
   ]
  },
  {
   "cell_type": "code",
   "execution_count": 10,
   "metadata": {},
   "outputs": [
    {
     "name": "stdout",
     "output_type": "stream",
     "text": [
      "Plotting degree distribution\n"
     ]
    },
    {
     "name": "stderr",
     "output_type": "stream",
     "text": [
      "/usr/lib/python3/dist-packages/ipykernel_launcher.py:2: RuntimeWarning: overflow encountered in exp\n",
      "  \n"
     ]
    },
    {
     "name": "stdout",
     "output_type": "stream",
     "text": [
      "a=23716.368, b=0.496, c=42.675\n"
     ]
    },
    {
     "data": {
      "image/png": "[encoded data removed]",
      "text/plain": [
       "<Figure size 432x288 with 1 Axes>"
      ]
     },
     "metadata": {
      "needs_background": "light"
     },
     "output_type": "display_data"
    }
   ],
   "source": [
    "def func(x, a, b, c):\n",
    "    return a * np.exp(-b * x) + c\n",
    "\n",
    "\n",
    "def plot_degree_distribution_with_exp_fit(matrix, print_values=False):\n",
    "    print('Plotting degree distribution')\n",
    "    # 1 dimension matrix containing the number of edges for each node\n",
    "    number_of_edges_for_each_node = (matrix != False).sum(0)\n",
    "    uniq, _ = np.unique(number_of_edges_for_each_node, return_counts=True)\n",
    "    bins = np.arange(uniq.max()+2) - 0.5\n",
    "    if print_values:\n",
    "        print('bins   : ', bins)\n",
    "    count, _ = np.histogram(number_of_edges_for_each_node, bins) # add density=True\n",
    "    if print_values:\n",
    "        print('Degrees: ', range(uniq.max()+1))\n",
    "        print('Count  : ', count)\n",
    "    #plt.scatter(uniq, count/sum(count))\n",
    "    plt.scatter(range(uniq.max()+1)[4:40], count[4:40], label = 'Degree distribution')\n",
    "    popt, pcov = curve_fit(func, range(uniq.max() + 1)[4:40], count[4:40])\n",
    "    print('a=%5.3f, b=%5.3f, c=%5.3f' % tuple(popt))\n",
    "    plt.plot(range(uniq.max() + 1)[4:40], func(range(uniq.max() + 1)[4:40], *popt), 'r-',\n",
    "             label='exponential distribution')\n",
    "    plt.xlabel('Degrees')\n",
    "    plt.ylabel('Count')\n",
    "    plt.legend()\n",
    "    plt.title('Degree distribution and fit for the parameters a, b, c of the exponential function')\n",
    "    plt.show()\n",
    "    return uniq, count, number_of_edges_for_each_node\n",
    "\n",
    "edges_uniq_values, count, number_of_edges_for_each_node = plot_degree_distribution_with_exp_fit(matrix_BarabasiAlbert)\n"
   ]
  },
  {
   "cell_type": "markdown",
   "metadata": {},
   "source": [
    "I delete the first four values from the degree distribution in order to get a better fit. The parameters of the exponential distribution are a = 23716.368, b = 0.496 and c = 42.675 with the following function:\n",
    "Count = a * exp(-b * Degree) + c"
   ]
  },
  {
   "cell_type": "markdown",
   "metadata": {},
   "source": [
    "### **5) Plot the same distribution on log-log scale. Fit the distribution using Least Square fit. You can use existing functions for fitting and plot the fit next to the data.**"
   ]
  },
  {
   "cell_type": "code",
   "execution_count": null,
   "metadata": {},
   "outputs": [],
   "source": [
    "def plot_log_log_degree_distribution_with_least_square_fit(matrix, print_values=False):\n",
    "    print('Plotting degree distribution')\n",
    "    # 1 dimension matrix containing the number of edges for each node\n",
    "    xdatalist, xdatalog, ydatalog = [], [], []\n",
    "    number_of_edges_for_each_node = (matrix != False).sum(0)\n",
    "    uniq, _ = np.unique(number_of_edges_for_each_node, return_counts=True)\n",
    "    bins = np.arange(uniq.max()+2) - 0.5\n",
    "    if print_values:\n",
    "        print('bins   : ', bins)\n",
    "    count, _ = np.histogram(number_of_edges_for_each_node, bins) \n",
    "    if print_values:\n",
    "        print('Degrees: ', range(uniq.max()+1))\n",
    "        print('Count  : ', count)\n",
    "    print(range(uniq.max()+1))  \n",
    "    print(count)\n",
    "    for i in range(len(range(uniq.max()+1))):\n",
    "        xdatalist.append(range(uniq.max()+1)[i])\n",
    "    for i in range(len(xdatalist)):    \n",
    "        if xdatalist[i] == 0:\n",
    "            xdatalist[i] = 0.001\n",
    "        xdatalog.append(math.log(xdatalist[i])) \n",
    "    for i in range(len(count)):\n",
    "        if count[i] == 0:\n",
    "            count[i] = 0.001\n",
    "    print(count)        \n",
    "    for i in range(len(count)):\n",
    "        ydatalog.append(math.log(count[i]))    \n",
    "    plt.scatter(xdatalog, ydatalog, label = 'log-log Degree distribution')\n",
    "    #popt, pcov = curve_fit(func, range(uniq.max() + 1)[4:40], count[4:40])\n",
    "    #plt.plot(range(uniq.max() + 1)[4:40], func(range(uniq.max() + 1)[4:40], *popt), 'r-',\n",
    "    #         label='least square fit)\n",
    "    plt.xlabel('log(Degrees)')\n",
    "    plt.ylabel('log(Count)')\n",
    "    plt.legend()\n",
    "    plt.title('log-log degree distribution and least square fit')\n",
    "    plt.show()\n",
    "    return uniq, count, number_of_edges_for_each_node\n",
    "\n",
    "edges_uniq_values, count, number_of_edges_for_each_node = plot_log_log_degree_distribution_with_least_square_fit(matrix_BarabasiAlbert)\n"
   ]
  },
  {
   "cell_type": "markdown",
   "metadata": {},
   "source": [
    "**What are the parameters of the fit? How does it fit? Why?\n",
    "Write a paragraph about why we should not use Least Square fit to fit power laws.**"
   ]
  },
  {
   "cell_type": "code",
   "execution_count": null,
   "metadata": {},
   "outputs": [],
   "source": []
  },
  {
   "cell_type": "markdown",
   "metadata": {},
   "source": [
    "### **6) Plot Complementary Cumulative Distribution and fit it with Least Square Fit, report the obtained parameters and plot of the fitted function.**"
   ]
  },
  {
   "cell_type": "code",
   "execution_count": 12,
   "metadata": {},
   "outputs": [
    {
     "name": "stdout",
     "output_type": "stream",
     "text": [
      "Plotting degree distribution\n"
     ]
    },
    {
     "name": "stderr",
     "output_type": "stream",
     "text": [
      "/usr/lib/python3/dist-packages/ipykernel_launcher.py:2: RuntimeWarning: overflow encountered in exp\n",
      "  \n"
     ]
    },
    {
     "name": "stdout",
     "output_type": "stream",
     "text": [
      "a=12315.779, b=0.153, c=9.146\n"
     ]
    },
    {
     "data": {
      "image/png": "[encoded data removed]",
      "text/plain": [
       "<Figure size 432x288 with 1 Axes>"
      ]
     },
     "metadata": {
      "needs_background": "light"
     },
     "output_type": "display_data"
    }
   ],
   "source": [
    "def func1(x, a , b, c):\n",
    "    return a*x/(b+c*x)\n",
    "\n",
    "\n",
    "def plot_complementary_cumulative_distribution_with_least_square_fit(matrix, print_values=False):\n",
    "    print('Plotting degree distribution')\n",
    "    # 1 dimension matrix containing the number of edges for each node\n",
    "    number_of_edges_for_each_node = (matrix != False).sum(0)\n",
    "    uniq, _ = np.unique(number_of_edges_for_each_node, return_counts=True)\n",
    "    bins = np.arange(uniq.max()+2) - 0.5\n",
    "    if print_values:\n",
    "        print('bins   : ', bins)\n",
    "    count, _ = np.histogram(number_of_edges_for_each_node, bins) # add density=True\n",
    "    if print_values:\n",
    "        print('Degrees: ', range(uniq.max()+1))\n",
    "        print('Count  : ', count)  \n",
    "    countlist = list(count)\n",
    "    for i in range(len(countlist)-1, 0, -1):\n",
    "        countlist[i-1] += countlist[i]\n",
    "    count = np.array(countlist)    \n",
    "    #plt.scatter(uniq, count/sum(count))\n",
    "    plt.scatter(range(uniq.max()+1), count, label = 'Degree distribution')\n",
    "    popt1, pcov1 = curve_fit(func, range(uniq.max()+1), count)\n",
    "    print('a=%5.3f, b=%5.3f, c=%5.3f' % tuple(popt1))\n",
    "    plt.plot(range(uniq.max() + 1), func(range(uniq.max() + 1), *popt1), 'r-',\n",
    "             label='least square distribution')        \n",
    "    plt.xlabel('Degrees')\n",
    "    plt.ylabel('Count')\n",
    "    plt.legend()\n",
    "    plt.title('complementary cumulative distribution and least square fit')\n",
    "    plt.show()\n",
    "    return uniq, count, number_of_edges_for_each_node\n",
    "\n",
    "edges_uniq_values, count, number_of_edges_for_each_node = plot_complementary_cumulative_distribution_with_least_square_fit(matrix_BarabasiAlbert)\n"
   ]
  },
  {
   "cell_type": "markdown",
   "metadata": {},
   "source": [
    "The parameters are a = 12315.779, b = 0.153 and c = 9.146  with the following function: Count = a exp(-b Degree) + c"
   ]
  },
  {
   "cell_type": "markdown",
   "metadata": {},
   "source": [
    "### **7) Now fit your distribution using maximum likelihood method described in [4]. You can use any of the packages which has the method developed. I recommend powerlaw library for python https://github.com/jeffalstott/powerlaw **"
   ]
  },
  {
   "cell_type": "code",
   "execution_count": null,
   "metadata": {},
   "outputs": [],
   "source": []
  },
  {
   "cell_type": "markdown",
   "metadata": {},
   "source": [
    "### **8) Report the parameters of the fit and plot them next to distribution.**"
   ]
  },
  {
   "cell_type": "code",
   "execution_count": null,
   "metadata": {},
   "outputs": [],
   "source": []
  },
  {
   "cell_type": "markdown",
   "metadata": {},
   "source": [
    "### **9) Compare the power law fit with the stretched exponential fit (using the same package). Report the log likelihood ratio R and the p-value. What do these numbers mean?**"
   ]
  },
  {
   "cell_type": "code",
   "execution_count": null,
   "metadata": {},
   "outputs": [],
   "source": []
  },
  {
   "cell_type": "markdown",
   "metadata": {},
   "source": [
    "### **10) What is the mathematical formula for scale free distribution you generated? Calculate the mean and the standard deviation of function? What would be the mean and standard deviation if the exponent would be 2.7? Use reference [1] to help you out especially chapter 2.2.2. Scale-free degree distributions. You can calculate the integral using pan and paper and scan it and attach it to the rest of PDF.**"
   ]
  },
  {
   "cell_type": "markdown",
   "metadata": {},
   "source": [
    "## **Part II – Game Theory on Networks**\n",
    "### **1) Run a simulation of agents playing Prisoner’s Dilemma on the generated networks**\n",
    "**- Explain why would we set up the probability P ij like this? Why does it make sense to update your actions like that?**"
   ]
  },
  {
   "cell_type": "code",
   "execution_count": 23,
   "metadata": {},
   "outputs": [],
   "source": [
    "def play_game(matrix, rounds, P=0, R=1, S=-0.1, T=1.03):\n",
    "    Dmax = max(T, R) - min(S, P)\n",
    "    number_of_players = matrix.shape[0]\n",
    "    cooperators_per_turn = []\n",
    "    payoff_for_each_player = np.zeros(number_of_players)\n",
    "    degree_for_each_player = matrix.sum(0)\n",
    "    kmax = np.zeros((number_of_players, number_of_players))\n",
    "    for i in range(number_of_players-1):\n",
    "        for j in range(i, number_of_players):\n",
    "            if i == j:\n",
    "                my_max = 0\n",
    "            else:\n",
    "                my_max = max(degree_for_each_player[i], degree_for_each_player[j])\n",
    "            kmax[i][j] = my_max\n",
    "            kmax[j][i] = my_max\n",
    "\n",
    "    denominator = kmax * Dmax\n",
    "    for round in range(rounds):\n",
    "        # Chose Cooperate or Defect according to probabilities\n",
    "        if round == 0:\n",
    "            cooperate_or_defect = np.random.choice(a=[False, True], size=(number_of_players)) # True if cooperate\n",
    "        else:\n",
    "            for i in range(number_of_players):\n",
    "                neighbors = np.nonzero(matrix[i])[0]\n",
    "                if len(neighbors) != 0:\n",
    "                    j = choice(neighbors)\n",
    "                    if cooperate_or_defect[i] != cooperate_or_defect[j]: # Change only possible if players have different choices\n",
    "                        Pij = (payoff_for_each_player[j] - payoff_for_each_player[i]) / denominator[i][j]\n",
    "                        change = choices((True, False), weights=(Pij, 1-Pij))\n",
    "                        if change:\n",
    "                            cooperate_or_defect[i] = cooperate_or_defect[j]\n",
    "\n",
    "        # Compute the new payoffs (W)\n",
    "        for i in range(number_of_players):\n",
    "            neighbors = np.nonzero(matrix[i])[0]\n",
    "            if len(neighbors) != 0:\n",
    "                if cooperate_or_defect[i]:\n",
    "                    for neighbor in neighbors:\n",
    "                        payoff_for_each_player[i] += R if cooperate_or_defect[neighbor] else S\n",
    "                else:\n",
    "                    for neighbor in neighbors:\n",
    "                        payoff_for_each_player[i] += T if cooperate_or_defect[neighbor] else P\n",
    "\n",
    "        cooperators_per_turn.append(cooperate_or_defect.sum(0))\n",
    "\n",
    "    return cooperators_per_turn\n"
   ]
  },
  {
   "cell_type": "markdown",
   "metadata": {},
   "source": [
    "If Wj is smaller than Wi, the player will not change his strategy. In fact, he will change his strategy depending on the other payoff of the other players.If the mean of payoff of their neighbors is higher than his own payoff, he will change his strategy else he keeps the old strategy."
   ]
  },
  {
   "cell_type": "code",
   "execution_count": null,
   "metadata": {},
   "outputs": [],
   "source": [
    "cooperators_per_turn_ErdosRenye = play_game(matrix_ErdosRenye, 1500, P=0, R=1, S=-0.1, T=1.03)"
   ]
  },
  {
   "cell_type": "code",
   "execution_count": null,
   "metadata": {},
   "outputs": [],
   "source": [
    "cooperators_per_turn_BarabasiAlbert = play_game(matrix_BarabasiAlbert, 1500, P=0, R=1, S=-0.1, T=1.03)"
   ]
  },
  {
   "cell_type": "code",
   "execution_count": null,
   "metadata": {},
   "outputs": [],
   "source": []
  },
  {
   "cell_type": "markdown",
   "metadata": {},
   "source": [
    "### **2) Plot the cooperation level over time for all the values of T and for both networks. Establish after how many rounds the system reaches stationary state (when the level of cooperation does not change too much).**"
   ]
  },
  {
   "cell_type": "code",
   "execution_count": null,
   "metadata": {},
   "outputs": [],
   "source": []
  },
  {
   "cell_type": "markdown",
   "metadata": {},
   "source": [
    "### **3) Average the stationary cooperation level over 20 simulations (for each T and both networks). Plot the dependence of the stationary cooperation level on the value of T for both networks.**"
   ]
  },
  {
   "cell_type": "code",
   "execution_count": 24,
   "metadata": {},
   "outputs": [
    {
     "ename": "KeyboardInterrupt",
     "evalue": "",
     "output_type": "error",
     "traceback": [
      "\u001b[0;31m---------------------------------------------------------------------------\u001b[0m",
      "\u001b[0;31mKeyboardInterrupt\u001b[0m                         Traceback (most recent call last)",
      "\u001b[0;32m<ipython-input-24-bf3c5c62b422>\u001b[0m in \u001b[0;36m<module>\u001b[0;34m\u001b[0m\n\u001b[1;32m      5\u001b[0m     \u001b[0mcooperators_per_t\u001b[0m \u001b[0;34m=\u001b[0m \u001b[0;34m[\u001b[0m\u001b[0;34m]\u001b[0m\u001b[0;34m\u001b[0m\u001b[0;34m\u001b[0m\u001b[0m\n\u001b[1;32m      6\u001b[0m     \u001b[0;32mfor\u001b[0m \u001b[0mn\u001b[0m \u001b[0;32min\u001b[0m \u001b[0mrange\u001b[0m\u001b[0;34m(\u001b[0m\u001b[0;36m5\u001b[0m\u001b[0;34m)\u001b[0m\u001b[0;34m:\u001b[0m\u001b[0;34m\u001b[0m\u001b[0;34m\u001b[0m\u001b[0m\n\u001b[0;32m----> 7\u001b[0;31m         \u001b[0mcooperators_per_turn\u001b[0m \u001b[0;34m=\u001b[0m \u001b[0mplay_game\u001b[0m\u001b[0;34m(\u001b[0m\u001b[0mmatrix_ErdosRenye\u001b[0m\u001b[0;34m,\u001b[0m \u001b[0mnumber_of_turns\u001b[0m\u001b[0;34m,\u001b[0m \u001b[0mT\u001b[0m\u001b[0;34m=\u001b[0m\u001b[0mt\u001b[0m\u001b[0;34m)\u001b[0m\u001b[0;34m\u001b[0m\u001b[0;34m\u001b[0m\u001b[0m\n\u001b[0m\u001b[1;32m      8\u001b[0m         \u001b[0mcooperators_per_t\u001b[0m\u001b[0;34m.\u001b[0m\u001b[0mappend\u001b[0m\u001b[0;34m(\u001b[0m\u001b[0mcooperators_per_turn\u001b[0m\u001b[0;34m)\u001b[0m\u001b[0;34m\u001b[0m\u001b[0;34m\u001b[0m\u001b[0m\n\u001b[1;32m      9\u001b[0m     \u001b[0mcoop\u001b[0m \u001b[0;34m=\u001b[0m \u001b[0mnp\u001b[0m\u001b[0;34m.\u001b[0m\u001b[0mmatrix\u001b[0m\u001b[0;34m(\u001b[0m\u001b[0mcooperators_per_t\u001b[0m\u001b[0;34m)\u001b[0m\u001b[0;34m\u001b[0m\u001b[0;34m\u001b[0m\u001b[0m\n",
      "\u001b[0;32m<ipython-input-23-02f6e175324f>\u001b[0m in \u001b[0;36mplay_game\u001b[0;34m(matrix, rounds, P, R, S, T)\u001b[0m\n\u001b[1;32m     25\u001b[0m                 \u001b[0;32mif\u001b[0m \u001b[0mlen\u001b[0m\u001b[0;34m(\u001b[0m\u001b[0mneighbors\u001b[0m\u001b[0;34m)\u001b[0m \u001b[0;34m!=\u001b[0m \u001b[0;36m0\u001b[0m\u001b[0;34m:\u001b[0m\u001b[0;34m\u001b[0m\u001b[0;34m\u001b[0m\u001b[0m\n\u001b[1;32m     26\u001b[0m                     \u001b[0mj\u001b[0m \u001b[0;34m=\u001b[0m \u001b[0mchoice\u001b[0m\u001b[0;34m(\u001b[0m\u001b[0mneighbors\u001b[0m\u001b[0;34m)\u001b[0m\u001b[0;34m\u001b[0m\u001b[0;34m\u001b[0m\u001b[0m\n\u001b[0;32m---> 27\u001b[0;31m                     \u001b[0;32mif\u001b[0m \u001b[0mcooperate_or_defect\u001b[0m\u001b[0;34m[\u001b[0m\u001b[0mi\u001b[0m\u001b[0;34m]\u001b[0m \u001b[0;34m!=\u001b[0m \u001b[0mcooperate_or_defect\u001b[0m\u001b[0;34m[\u001b[0m\u001b[0mj\u001b[0m\u001b[0;34m]\u001b[0m\u001b[0;34m:\u001b[0m \u001b[0;31m# Change only possible if players have different choices\u001b[0m\u001b[0;34m\u001b[0m\u001b[0;34m\u001b[0m\u001b[0m\n\u001b[0m\u001b[1;32m     28\u001b[0m                         \u001b[0mPij\u001b[0m \u001b[0;34m=\u001b[0m \u001b[0;34m(\u001b[0m\u001b[0mpayoff_for_each_player\u001b[0m\u001b[0;34m[\u001b[0m\u001b[0mj\u001b[0m\u001b[0;34m]\u001b[0m \u001b[0;34m-\u001b[0m \u001b[0mpayoff_for_each_player\u001b[0m\u001b[0;34m[\u001b[0m\u001b[0mi\u001b[0m\u001b[0;34m]\u001b[0m\u001b[0;34m)\u001b[0m \u001b[0;34m/\u001b[0m \u001b[0mdenominator\u001b[0m\u001b[0;34m[\u001b[0m\u001b[0mi\u001b[0m\u001b[0;34m]\u001b[0m\u001b[0;34m[\u001b[0m\u001b[0mj\u001b[0m\u001b[0;34m]\u001b[0m\u001b[0;34m\u001b[0m\u001b[0;34m\u001b[0m\u001b[0m\n\u001b[1;32m     29\u001b[0m                         \u001b[0mchange\u001b[0m \u001b[0;34m=\u001b[0m \u001b[0mchoices\u001b[0m\u001b[0;34m(\u001b[0m\u001b[0;34m(\u001b[0m\u001b[0;32mTrue\u001b[0m\u001b[0;34m,\u001b[0m \u001b[0;32mFalse\u001b[0m\u001b[0;34m)\u001b[0m\u001b[0;34m,\u001b[0m \u001b[0mweights\u001b[0m\u001b[0;34m=\u001b[0m\u001b[0;34m(\u001b[0m\u001b[0mPij\u001b[0m\u001b[0;34m,\u001b[0m \u001b[0;36m1\u001b[0m\u001b[0;34m-\u001b[0m\u001b[0mPij\u001b[0m\u001b[0;34m)\u001b[0m\u001b[0;34m)\u001b[0m\u001b[0;34m\u001b[0m\u001b[0;34m\u001b[0m\u001b[0m\n",
      "\u001b[0;31mKeyboardInterrupt\u001b[0m: "
     ]
    }
   ],
   "source": [
    "T=[1.03, 1.07, 1.1, 1.2, 1.3, 1.5, 1.7, 1.9, 1.95]\n",
    "cooperators_erdos_renye_list = []\n",
    "number_of_turns = 1500\n",
    "for t in T:\n",
    "    cooperators_per_t = []\n",
    "    for n in range(20):\n",
    "        cooperators_per_turn = play_game(matrix_ErdosRenye, number_of_turns, T=t)\n",
    "        cooperators_per_t.append(cooperators_per_turn)\n",
    "    coop = np.matrix(cooperators_per_t)\n",
    "    cooperators_erdos_renye_list.append((t, np.squeeze(np.asarray(np.average(coop, axis=0)))))\n",
    "\n",
    "for t, i in cooperators_erdos_renye_list:\n",
    "    plt.scatter(range(number_of_turns), i, label='T='+str(t))\n",
    "    plt.xlabel('Turn')\n",
    "    plt.ylabel('Cooperators')\n",
    "    plt.title('Cooperators by turn')\n",
    "plt.show()\n",
    "\n",
    "cooperators_barabasi_albert_list = []\n",
    "number_of_turns = 3000\n",
    "for t in T:\n",
    "    cooperators_per_t = []\n",
    "    for n in range(20):\n",
    "        cooperators_per_turn = play_game(matrix_BarabasiAlbert, number_of_turns, T=t)\n",
    "        cooperators_per_t.append(cooperators_per_turn)\n",
    "    coop = np.matrix(cooperators_per_t)\n",
    "    cooperators_barabasi_albert_list.append((t, np.squeeze(np.asarray(np.average(coop, axis=0)))))\n",
    "\n",
    "for t, i in cooperators_barabasi_albert_list:\n",
    "    plt.scatter(range(number_of_turns), i, label='T='+str(t))\n",
    "    plt.xlabel('Turn')\n",
    "    plt.ylabel('Cooperators')\n",
    "    plt.title('Cooperators by turn')\n",
    "plt.show()"
   ]
  },
  {
   "cell_type": "markdown",
   "metadata": {},
   "source": [
    "### **4) Comment the differences of the final cooperation levels.**"
   ]
  },
  {
   "cell_type": "code",
   "execution_count": null,
   "metadata": {},
   "outputs": [],
   "source": []
  }
 ],
 "metadata": {
  "kernelspec": {
   "display_name": "Python 3",
   "language": "python",
   "name": "python3"
  },
  "language_info": {
   "codemirror_mode": {
    "name": "ipython",
    "version": 3
   },
   "file_extension": ".py",
   "mimetype": "text/x-python",
   "name": "python",
   "nbconvert_exporter": "python",
   "pygments_lexer": "ipython3",
   "version": "3.7.6"
  }
 },
 "nbformat": 4,
 "nbformat_minor": 2
}
