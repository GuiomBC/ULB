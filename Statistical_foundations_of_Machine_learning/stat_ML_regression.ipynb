{
 "cells": [
  {
   "cell_type": "markdown",
   "metadata": {},
   "source": [
    "<center> <h1>SFML-Project-Regression-INFO-F422</h1> </center>\n",
    "\n",
    "<center> <h2>Bernard Manderick</h2> </center>\n",
    " \n",
    "<center> <h3>Guillaume Buisson-Chavot</h3> </center> \n",
    "<center> <h3>matricule: 000465822 </h3> </center> "
   ]
  },
  {
   "cell_type": "markdown",
   "metadata": {},
   "source": [
    "Question: We want to know if there is a difference between 2 machine learning algorithms in terms of errors.\n",
    "\n",
    "For that, we will create a synthetic set in order to test the 2 algorithms on it before to apply them on a real-world dataset."
   ]
  },
  {
   "cell_type": "markdown",
   "metadata": {},
   "source": [
    "## 1. Synthetic dataset"
   ]
  },
  {
   "cell_type": "code",
   "execution_count": 109,
   "metadata": {},
   "outputs": [
    {
     "data": {
      "image/png": "[encoded data removed]",
      "text/plain": [
       "<Figure size 432x288 with 1 Axes>"
      ]
     },
     "metadata": {
      "needs_background": "light"
     },
     "output_type": "display_data"
    }
   ],
   "source": [
    "from sklearn.datasets import make_regression\n",
    "from matplotlib import pyplot\n",
    "# generate regression dataset\n",
    "X, y = make_regression(n_samples=30, n_features=1, n_informative=10,\n",
    "                    n_targets=1, bias=0.7, effective_rank=None,\n",
    "                    tail_strength=0.5, noise=0.6, shuffle=True, coef=False,\n",
    "                    random_state=100)\n",
    "# plot regression dataset\n",
    "pyplot.scatter(X,y)\n",
    "pyplot.show()"
   ]
  },
  {
   "cell_type": "markdown",
   "metadata": {},
   "source": [
    "## 1.1 Decision Tree Regression on synthetic set"
   ]
  },
  {
   "cell_type": "code",
   "execution_count": 110,
   "metadata": {
    "scrolled": false
   },
   "outputs": [
    {
     "data": {
      "text/plain": [
       "DecisionTreeRegressor(random_state=0)"
      ]
     },
     "execution_count": 110,
     "metadata": {},
     "output_type": "execute_result"
    }
   ],
   "source": [
    "# import the regressor \n",
    "from sklearn.tree import DecisionTreeRegressor  \n",
    "  \n",
    "# create a regressor object \n",
    "regressor = DecisionTreeRegressor(random_state = 0)  \n",
    "  \n",
    "# fit the regressor with X and Y data \n",
    "regressor.fit(X, y) \n"
   ]
  },
  {
   "cell_type": "code",
   "execution_count": 111,
   "metadata": {},
   "outputs": [
    {
     "name": "stdout",
     "output_type": "stream",
     "text": [
      "[21.12668595]\n"
     ]
    }
   ],
   "source": [
    "y_pred = regressor.predict([[1]])\n",
    "print(y_pred)"
   ]
  },
  {
   "cell_type": "code",
   "execution_count": 112,
   "metadata": {},
   "outputs": [
    {
     "data": {
      "image/png": "[encoded data removed]",
      "text/plain": [
       "<Figure size 432x288 with 1 Axes>"
      ]
     },
     "metadata": {
      "needs_background": "light"
     },
     "output_type": "display_data"
    }
   ],
   "source": [
    "import numpy as np\n",
    "import matplotlib.pyplot as plt  \n",
    "import pandas as pd \n",
    "\n",
    "X_grid = np.arange(min(X), max(X), 0.01) \n",
    "  \n",
    "# reshape for reshaping the data into  \n",
    "# a len(X_grid)*1 array, i.e. to make \n",
    "# a column out of the X_grid values \n",
    "X_grid = X_grid.reshape((len(X_grid), 1))  \n",
    "  \n",
    "# scatter plot for original data \n",
    "plt.scatter(X, y, color = 'red') \n",
    "  \n",
    "# plot predicted data \n",
    "plt.plot(X_grid, regressor.predict(X_grid), color = 'blue')  \n",
    "plt.title('Decision Tree Regression')   \n",
    "plt.xlabel('X') \n",
    "plt.ylabel('Y') \n",
    "plt.show() \n"
   ]
  },
  {
   "cell_type": "markdown",
   "metadata": {},
   "source": [
    "Now, I split the set in training(70%) and test(30%) sets in order to evaluate the score of the regressor:"
   ]
  },
  {
   "cell_type": "code",
   "execution_count": 113,
   "metadata": {},
   "outputs": [
    {
     "data": {
      "text/plain": [
       "array([ -1.14623514, -11.40384336])"
      ]
     },
     "execution_count": 113,
     "metadata": {},
     "output_type": "execute_result"
    }
   ],
   "source": [
    "X_train, X_test, y_train, y_test = train_test_split(X, y,random_state=1, test_size=0.3)\n",
    "regr_DT = DecisionTreeRegressor(random_state = 0).fit(X_train, y_train)\n",
    "regr_DT.predict(X_test[:2])"
   ]
  },
  {
   "cell_type": "code",
   "execution_count": 114,
   "metadata": {},
   "outputs": [
    {
     "data": {
      "text/plain": [
       "0.9623280562929744"
      ]
     },
     "execution_count": 114,
     "metadata": {},
     "output_type": "execute_result"
    }
   ],
   "source": [
    "regr_DT.score(X_test, y_test)"
   ]
  },
  {
   "cell_type": "markdown",
   "metadata": {},
   "source": [
    "And finally, I just plot the Decision Tree:"
   ]
  },
  {
   "cell_type": "code",
   "execution_count": 115,
   "metadata": {},
   "outputs": [
    {
     "data": {
      "text/plain": [
       "[Text(162.91607142857143, 203.85, 'X[0] <= 0.058\\nmse = 342.177\\nsamples = 21\\nvalue = 3.239'),\n",
       " Text(65.76428571428572, 176.67000000000002, 'X[0] <= -0.687\\nmse = 101.392\\nsamples = 10\\nvalue = -13.422'),\n",
       " Text(23.914285714285715, 149.49, 'X[0] <= -1.434\\nmse = 46.875\\nsamples = 4\\nvalue = -24.032'),\n",
       " Text(11.957142857142857, 122.31, 'mse = 0.0\\nsamples = 1\\nvalue = -35.128'),\n",
       " Text(35.871428571428574, 122.31, 'X[0] <= -0.956\\nmse = 7.778\\nsamples = 3\\nvalue = -20.333'),\n",
       " Text(23.914285714285715, 95.13, 'X[0] <= -1.094\\nmse = 1.242\\nsamples = 2\\nvalue = -22.198'),\n",
       " Text(11.957142857142857, 67.94999999999999, 'mse = 0.0\\nsamples = 1\\nvalue = -23.312'),\n",
       " Text(35.871428571428574, 67.94999999999999, 'mse = -0.0\\nsamples = 1\\nvalue = -21.083'),\n",
       " Text(47.82857142857143, 95.13, 'mse = -0.0\\nsamples = 1\\nvalue = -16.605'),\n",
       " Text(107.61428571428571, 149.49, 'X[0] <= -0.392\\nmse = 12.653\\nsamples = 6\\nvalue = -6.349'),\n",
       " Text(83.7, 122.31, 'X[0] <= -0.495\\nmse = 0.285\\nsamples = 2\\nvalue = -10.87'),\n",
       " Text(71.74285714285715, 95.13, 'mse = 0.0\\nsamples = 1\\nvalue = -11.404'),\n",
       " Text(95.65714285714286, 95.13, 'mse = 0.0\\nsamples = 1\\nvalue = -10.336'),\n",
       " Text(131.52857142857144, 122.31, 'X[0] <= -0.147\\nmse = 3.505\\nsamples = 4\\nvalue = -4.088'),\n",
       " Text(119.57142857142857, 95.13, 'X[0] <= -0.221\\nmse = 0.828\\nsamples = 3\\nvalue = -5.068'),\n",
       " Text(107.61428571428571, 67.94999999999999, 'X[0] <= -0.289\\nmse = 0.214\\nsamples = 2\\nvalue = -5.654'),\n",
       " Text(95.65714285714286, 40.77000000000001, 'mse = 0.0\\nsamples = 1\\nvalue = -6.116'),\n",
       " Text(119.57142857142857, 40.77000000000001, 'mse = 0.0\\nsamples = 1\\nvalue = -5.192'),\n",
       " Text(131.52857142857144, 67.94999999999999, 'mse = -0.0\\nsamples = 1\\nvalue = -3.898'),\n",
       " Text(143.4857142857143, 95.13, 'mse = 0.0\\nsamples = 1\\nvalue = -1.146'),\n",
       " Text(260.0678571428571, 176.67000000000002, 'X[0] <= 1.286\\nmse = 79.307\\nsamples = 11\\nvalue = 18.385'),\n",
       " Text(221.20714285714286, 149.49, 'X[0] <= 0.554\\nmse = 34.564\\nsamples = 9\\nvalue = 15.021'),\n",
       " Text(179.35714285714286, 122.31, 'X[0] <= 0.282\\nmse = 5.366\\nsamples = 3\\nvalue = 7.428'),\n",
       " Text(167.4, 95.13, 'mse = 0.0\\nsamples = 1\\nvalue = 4.331'),\n",
       " Text(191.31428571428572, 95.13, 'X[0] <= 0.389\\nmse = 0.857\\nsamples = 2\\nvalue = 8.976'),\n",
       " Text(179.35714285714286, 67.94999999999999, 'mse = 0.0\\nsamples = 1\\nvalue = 8.05'),\n",
       " Text(203.27142857142857, 67.94999999999999, 'mse = 0.0\\nsamples = 1\\nvalue = 9.902'),\n",
       " Text(263.0571428571429, 122.31, 'X[0] <= 0.774\\nmse = 5.913\\nsamples = 6\\nvalue = 18.818'),\n",
       " Text(239.14285714285714, 95.13, 'X[0] <= 0.702\\nmse = 0.634\\nsamples = 2\\nvalue = 15.704'),\n",
       " Text(227.18571428571428, 67.94999999999999, 'mse = 0.0\\nsamples = 1\\nvalue = 14.908'),\n",
       " Text(251.1, 67.94999999999999, 'mse = 0.0\\nsamples = 1\\nvalue = 16.501'),\n",
       " Text(286.9714285714286, 95.13, 'X[0] <= 0.877\\nmse = 1.28\\nsamples = 4\\nvalue = 20.375'),\n",
       " Text(275.01428571428573, 67.94999999999999, 'mse = 0.0\\nsamples = 1\\nvalue = 18.601'),\n",
       " Text(298.92857142857144, 67.94999999999999, 'X[0] <= 0.959\\nmse = 0.307\\nsamples = 3\\nvalue = 20.967'),\n",
       " Text(286.9714285714286, 40.77000000000001, 'mse = 0.0\\nsamples = 1\\nvalue = 20.222'),\n",
       " Text(310.8857142857143, 40.77000000000001, 'X[0] <= 1.006\\nmse = 0.045\\nsamples = 2\\nvalue = 21.339'),\n",
       " Text(298.92857142857144, 13.590000000000003, 'mse = 0.0\\nsamples = 1\\nvalue = 21.127'),\n",
       " Text(322.84285714285716, 13.590000000000003, 'mse = -0.0\\nsamples = 1\\nvalue = 21.551'),\n",
       " Text(298.92857142857144, 149.49, 'X[0] <= 1.58\\nmse = 0.587\\nsamples = 2\\nvalue = 33.523'),\n",
       " Text(286.9714285714286, 122.31, 'mse = 0.0\\nsamples = 1\\nvalue = 32.757'),\n",
       " Text(310.8857142857143, 122.31, 'mse = 0.0\\nsamples = 1\\nvalue = 34.289')]"
      ]
     },
     "execution_count": 115,
     "metadata": {},
     "output_type": "execute_result"
    },
    {
     "data": {
      "image/png": "[encoded data removed]",
      "text/plain": [
       "<Figure size 432x288 with 1 Axes>"
      ]
     },
     "metadata": {
      "needs_background": "light"
     },
     "output_type": "display_data"
    }
   ],
   "source": [
    "from sklearn import tree\n",
    "tree.plot_tree(regr_DT)"
   ]
  },
  {
   "cell_type": "markdown",
   "metadata": {},
   "source": [
    "## 1.1.1 Regression Tree explanation"
   ]
  },
  {
   "cell_type": "markdown",
   "metadata": {},
   "source": [
    "Our data consists of p inputs and a response, for each of N observations: that is (xi, yi) for i = 1,2,...,N with xi = (xi1, xi2, ..., xip). The algorithm needs to automatically decide on the splitting variables and split points, and also what shape the Tree should have. Suppose first that we have a partition into M regions R1, R2, ..., RM and we model the response as a constant Cm in each region:\n",
    "\n",
    "$$f(x)=\\sum\\limits_{m=1}^{M}C_m*I(x\\in\\mathbb{R_m})$$\n",
    "\n",
    "If we adopt as our criterion minimization of the sum of squares    , it's easy to see that the best Ĉm is the average of yi in region Rm:\n",
    "\n",
    "$$Ĉ_m= ave(y_i|x_i\\in\\mathbb{R_m})$$\n",
    "\n",
    "Now finding the best binary partition in terms of minimum sum of squares is generally computationally infeasible. Hence we proceed with a greedy algorithm. Starting with all of the data, consider a splitting variable j and split point s and define the pair of half-planes\n",
    "\n",
    "$$ R_1(j,s) =\\left\\{ X|X_j <= s\\right\\}$$ and $$R_2(j,s) = \\left\\{ X|X_j > s\\right\\}$$\n",
    "\n",
    "\n",
    "Then we seek the splitting variable j and split point s that solve:\n",
    "\n",
    "$$\\min_{j,s}\\left[\\min_{C_1}\\sum\\limits_{xi\\in\\mathbb{R_1(j,s)}}(y_i-c_1)^2\\\\+\\min_{C_2}\\sum\\limits_{x_i \\in\\mathbb{R_2(j,s)}}(y_i-c_2)^2\\\\\\right]$$\n",
    "\n",
    "for any choice j and s, the inner minimization is solved by:\n",
    "\n",
    "$$Ĉ_1= ave(y_i|x_i\\in\\mathbb{R_1(j,s)})$$ and $$Ĉ_2= ave(y_i|x_i\\in\\mathbb{R_2(j,s)})$$\n",
    "\n",
    "For each splitting variable, the determination of the split point s can be done very quickly and hence by scanning through all of the inputs, determination of the best pair (j,s) is feasible.\n",
    "Having found the best split, we partion the data into two resulting regions and repeat the splitting process on each of the two regions. Then this process is repeated on all the resulting regions.\n",
    "A very large tree might overfit the data while a small tree might not capture the important structure.\n",
    "\n",
    "One approach to choose the optimal tree size is to grow a large tree T0, stopping the splitting process only when some minimum node size is reached. Then this large tree is pruned using cost-complexity pruning."
   ]
  },
  {
   "cell_type": "markdown",
   "metadata": {},
   "source": [
    "## 1.2 Neural Network regression on synthetic set"
   ]
  },
  {
   "cell_type": "code",
   "execution_count": 116,
   "metadata": {},
   "outputs": [
    {
     "data": {
      "text/plain": [
       "array([  1.87629035, -12.80145433])"
      ]
     },
     "execution_count": 116,
     "metadata": {},
     "output_type": "execute_result"
    }
   ],
   "source": [
    "from sklearn.neural_network import MLPRegressor\n",
    "from sklearn.model_selection import train_test_split\n",
    "\n",
    "X_train, X_test, y_train, y_test = train_test_split(X, y,random_state=1, test_size=0.3)\n",
    "regr_NN = MLPRegressor(random_state=1, max_iter=1000000).fit(X_train, y_train)\n",
    "regr_NN.predict(X_test[:2])\n"
   ]
  },
  {
   "cell_type": "code",
   "execution_count": 117,
   "metadata": {},
   "outputs": [
    {
     "data": {
      "text/plain": [
       "0.9922327008092797"
      ]
     },
     "execution_count": 117,
     "metadata": {},
     "output_type": "execute_result"
    }
   ],
   "source": [
    "regr_NN.score(X_test, y_test)"
   ]
  },
  {
   "cell_type": "markdown",
   "metadata": {},
   "source": [
    "Conclusion: The NN regressor is better than the DT regressor for a bivariate set."
   ]
  },
  {
   "cell_type": "markdown",
   "metadata": {},
   "source": [
    "## 1.2.1 Neural Network regression explanation"
   ]
  },
  {
   "cell_type": "markdown",
   "metadata": {},
   "source": [
    "In this link, there is a diagram representing a neural network: https://www.astroml.org/_images/fig_neural_network_1.png\n",
    "We have a training set and from this, the goal is to find weights and parameters that best associate known inputs with a unique output. The inputs of our training set are N-uples, each encoding a different feature.The value of the nodes of the next layers are obtained as a function of the values of the nodes of the previous layer, the weights w and the bias b. For exemple with a sigmoid function:\n",
    "\n",
    "$$V_j^{(a+1)}\\\\= \\frac{1}{(1+ exp(\\sum\\limits_{i}(w_ij^{(a)}\\\\\\cdotp V_i^{(a)}\\\\+b_j^{(a+1)}\\\\)}$$\n",
    "with V always between 0 and 1.\n",
    "Weights and bias values are initially random. Weights and biases are adjusted after the output has been calculated, on the basis of the deviation of the output from the 'true' solution. When the learning phase is complete, the weights and biases are kept fixed. They are used to compute the output for a new inputs."
   ]
  },
  {
   "cell_type": "markdown",
   "metadata": {},
   "source": [
    "## 2. Real-world dataset"
   ]
  },
  {
   "cell_type": "code",
   "execution_count": 118,
   "metadata": {},
   "outputs": [
    {
     "name": "stdout",
     "output_type": "stream",
     "text": [
      "   subject#  age  sex  test_time  motor_UPDRS  total_UPDRS  Jitter(%)  \\\n",
      "0         1   72    0     5.6431       28.199       34.398    0.00662   \n",
      "1         1   72    0    12.6660       28.447       34.894    0.00300   \n",
      "2         1   72    0    19.6810       28.695       35.389    0.00481   \n",
      "3         1   72    0    25.6470       28.905       35.810    0.00528   \n",
      "4         1   72    0    33.6420       29.187       36.375    0.00335   \n",
      "\n",
      "   Jitter(Abs)  Jitter:RAP  Jitter:PPQ5  ...  Shimmer(dB)  Shimmer:APQ3  \\\n",
      "0     0.000034     0.00401      0.00317  ...        0.230       0.01438   \n",
      "1     0.000017     0.00132      0.00150  ...        0.179       0.00994   \n",
      "2     0.000025     0.00205      0.00208  ...        0.181       0.00734   \n",
      "3     0.000027     0.00191      0.00264  ...        0.327       0.01106   \n",
      "4     0.000020     0.00093      0.00130  ...        0.176       0.00679   \n",
      "\n",
      "   Shimmer:APQ5  Shimmer:APQ11  Shimmer:DDA       NHR     HNR     RPDE  \\\n",
      "0       0.01309        0.01662      0.04314  0.014290  21.640  0.41888   \n",
      "1       0.01072        0.01689      0.02982  0.011112  27.183  0.43493   \n",
      "2       0.00844        0.01458      0.02202  0.020220  23.047  0.46222   \n",
      "3       0.01265        0.01963      0.03317  0.027837  24.445  0.48730   \n",
      "4       0.00929        0.01819      0.02036  0.011625  26.126  0.47188   \n",
      "\n",
      "       DFA      PPE  \n",
      "0  0.54842  0.16006  \n",
      "1  0.56477  0.10810  \n",
      "2  0.54405  0.21014  \n",
      "3  0.57794  0.33277  \n",
      "4  0.56122  0.19361  \n",
      "\n",
      "[5 rows x 22 columns]\n"
     ]
    }
   ],
   "source": [
    "real_data = pd.read_csv(\"https://archive.ics.uci.edu/ml/machine-learning-databases/parkinsons/telemonitoring/parkinsons_updrs.data\")\n",
    "print(real_data.head())"
   ]
  },
  {
   "cell_type": "markdown",
   "metadata": {},
   "source": [
    "Here is the link corresponding to the features of our data: https://archive.ics.uci.edu/ml/machine-learning-databases/parkinsons/telemonitoring/parkinsons_updrs.names\n",
    "\n",
    "We can read the following things for features:\n",
    "\n",
    "- subject# - Integer that uniquely identifies each subject \n",
    "- age - Subject age\n",
    "- sex - Subject gender '0' - male, '1' - female\n",
    "- test_time - Time since recruitment into the trial. The integer part is the \n",
    "- number of days since recruitment.\n",
    "- motor_UPDRS - Clinician's motor UPDRS score, linearly interpolated\n",
    "- total_UPDRS - Clinician's total UPDRS score, linearly interpolated\n",
    "- Jitter(%),Jitter(Abs),Jitter:RAP,Jitter:PPQ5,Jitter:DDP - Several measures of \n",
    "- variation in fundamental frequency\n",
    "- Shimmer,Shimmer(dB),Shimmer:APQ3,Shimmer:APQ5,Shimmer:APQ11,Shimmer:DDA - \n",
    "- Several measures of variation in amplitude\n",
    "- NHR,HNR - Two measures of ratio of noise to tonal components in the voice\n",
    "- RPDE - A nonlinear dynamical complexity measure\n",
    "- DFA - Signal fractal scaling exponent\n",
    "- PPE - A nonlinear measure of fundamental frequency variation "
   ]
  },
  {
   "cell_type": "markdown",
   "metadata": {},
   "source": [
    "Now, we have to check if there are NaN values:"
   ]
  },
  {
   "cell_type": "code",
   "execution_count": 119,
   "metadata": {},
   "outputs": [
    {
     "data": {
      "text/plain": [
       "subject#         0\n",
       "age              0\n",
       "sex              0\n",
       "test_time        0\n",
       "motor_UPDRS      0\n",
       "total_UPDRS      0\n",
       "Jitter(%)        0\n",
       "Jitter(Abs)      0\n",
       "Jitter:RAP       0\n",
       "Jitter:PPQ5      0\n",
       "Jitter:DDP       0\n",
       "Shimmer          0\n",
       "Shimmer(dB)      0\n",
       "Shimmer:APQ3     0\n",
       "Shimmer:APQ5     0\n",
       "Shimmer:APQ11    0\n",
       "Shimmer:DDA      0\n",
       "NHR              0\n",
       "HNR              0\n",
       "RPDE             0\n",
       "DFA              0\n",
       "PPE              0\n",
       "dtype: int64"
      ]
     },
     "execution_count": 119,
     "metadata": {},
     "output_type": "execute_result"
    }
   ],
   "source": [
    "real_data[:].isnull().sum()"
   ]
  },
  {
   "cell_type": "markdown",
   "metadata": {},
   "source": [
    "It means that we have noting to clean!"
   ]
  },
  {
   "cell_type": "markdown",
   "metadata": {},
   "source": [
    "## 2.1 Decision Tree Regression on Real-world set"
   ]
  },
  {
   "cell_type": "markdown",
   "metadata": {},
   "source": [
    "I decided to remove the first column which is not relevant for us."
   ]
  },
  {
   "cell_type": "code",
   "execution_count": 120,
   "metadata": {},
   "outputs": [],
   "source": [
    "real_data.drop(['subject#'], 1, inplace=True)"
   ]
  },
  {
   "cell_type": "code",
   "execution_count": 121,
   "metadata": {},
   "outputs": [
    {
     "name": "stdout",
     "output_type": "stream",
     "text": [
      "               age          sex    test_time  motor_UPDRS  total_UPDRS  \\\n",
      "count  5875.000000  5875.000000  5875.000000  5875.000000  5875.000000   \n",
      "mean     64.804936     0.317787    92.863722    21.296229    29.018942   \n",
      "std       8.821524     0.465656    53.445602     8.129282    10.700283   \n",
      "min      36.000000     0.000000    -4.262500     5.037700     7.000000   \n",
      "25%      58.000000     0.000000    46.847500    15.000000    21.371000   \n",
      "50%      65.000000     0.000000    91.523000    20.871000    27.576000   \n",
      "75%      72.000000     1.000000   138.445000    27.596500    36.399000   \n",
      "max      85.000000     1.000000   215.490000    39.511000    54.992000   \n",
      "\n",
      "         Jitter(%)  Jitter(Abs)   Jitter:RAP  Jitter:PPQ5   Jitter:DDP  ...  \\\n",
      "count  5875.000000  5875.000000  5875.000000  5875.000000  5875.000000  ...   \n",
      "mean      0.006154     0.000044     0.002987     0.003277     0.008962  ...   \n",
      "std       0.005624     0.000036     0.003124     0.003732     0.009371  ...   \n",
      "min       0.000830     0.000002     0.000330     0.000430     0.000980  ...   \n",
      "25%       0.003580     0.000022     0.001580     0.001820     0.004730  ...   \n",
      "50%       0.004900     0.000035     0.002250     0.002490     0.006750  ...   \n",
      "75%       0.006800     0.000053     0.003290     0.003460     0.009870  ...   \n",
      "max       0.099990     0.000446     0.057540     0.069560     0.172630  ...   \n",
      "\n",
      "       Shimmer(dB)  Shimmer:APQ3  Shimmer:APQ5  Shimmer:APQ11  Shimmer:DDA  \\\n",
      "count  5875.000000   5875.000000   5875.000000    5875.000000  5875.000000   \n",
      "mean      0.310960      0.017156      0.020144       0.027481     0.051467   \n",
      "std       0.230254      0.013237      0.016664       0.019986     0.039711   \n",
      "min       0.026000      0.001610      0.001940       0.002490     0.004840   \n",
      "25%       0.175000      0.009280      0.010790       0.015665     0.027830   \n",
      "50%       0.253000      0.013700      0.015940       0.022710     0.041110   \n",
      "75%       0.365000      0.020575      0.023755       0.032715     0.061735   \n",
      "max       2.107000      0.162670      0.167020       0.275460     0.488020   \n",
      "\n",
      "               NHR          HNR         RPDE          DFA          PPE  \n",
      "count  5875.000000  5875.000000  5875.000000  5875.000000  5875.000000  \n",
      "mean      0.032120    21.679495     0.541473     0.653240     0.219589  \n",
      "std       0.059692     4.291096     0.100986     0.070902     0.091498  \n",
      "min       0.000286     1.659000     0.151020     0.514040     0.021983  \n",
      "25%       0.010955    19.406000     0.469785     0.596180     0.156340  \n",
      "50%       0.018448    21.920000     0.542250     0.643600     0.205500  \n",
      "75%       0.031463    24.444000     0.614045     0.711335     0.264490  \n",
      "max       0.748260    37.875000     0.966080     0.865600     0.731730  \n",
      "\n",
      "[8 rows x 21 columns]\n"
     ]
    }
   ],
   "source": [
    "print(real_data.describe())"
   ]
  },
  {
   "cell_type": "markdown",
   "metadata": {},
   "source": [
    "I will try to predict the age in function of the others features:"
   ]
  },
  {
   "cell_type": "code",
   "execution_count": 122,
   "metadata": {},
   "outputs": [
    {
     "data": {
      "text/plain": [
       "array([55., 55.])"
      ]
     },
     "execution_count": 122,
     "metadata": {},
     "output_type": "execute_result"
    }
   ],
   "source": [
    "X = np.array(real_data.drop(['age'], 1))\n",
    "y = np.array(real_data['age'])\n",
    "\n",
    "X_train, X_test, y_train, y_test = train_test_split(X, y,random_state=1, test_size=0.2)\n",
    "regr_DT = DecisionTreeRegressor(random_state = 0).fit(X_train, y_train)\n",
    "regr_DT.predict(X_test[:2])"
   ]
  },
  {
   "cell_type": "code",
   "execution_count": 123,
   "metadata": {},
   "outputs": [
    {
     "data": {
      "text/plain": [
       "0.7026048471720634"
      ]
     },
     "execution_count": 123,
     "metadata": {},
     "output_type": "execute_result"
    }
   ],
   "source": [
    "regr_DT.score(X_test, y_test)"
   ]
  },
  {
   "cell_type": "markdown",
   "metadata": {},
   "source": [
    "## 2.2 Neural Network regression on Real-world set"
   ]
  },
  {
   "cell_type": "code",
   "execution_count": 124,
   "metadata": {},
   "outputs": [
    {
     "data": {
      "text/plain": [
       "array([67.7062919 , 62.26306736])"
      ]
     },
     "execution_count": 124,
     "metadata": {},
     "output_type": "execute_result"
    }
   ],
   "source": [
    "X_train, X_test, y_train, y_test = train_test_split(X, y,random_state=1, test_size=0.2)\n",
    "regr_NN = MLPRegressor(random_state=1, max_iter=500).fit(X_train, y_train)\n",
    "regr_NN.predict(X_test[:2])"
   ]
  },
  {
   "cell_type": "code",
   "execution_count": 125,
   "metadata": {},
   "outputs": [
    {
     "data": {
      "text/plain": [
       "0.45217425441764725"
      ]
     },
     "execution_count": 125,
     "metadata": {},
     "output_type": "execute_result"
    }
   ],
   "source": [
    "regr_NN.score(X_test, y_test)"
   ]
  },
  {
   "cell_type": "markdown",
   "metadata": {},
   "source": [
    "Conclusion: We can see that the NN regressor is not very adapted to this kind of learning, the DT regressor give us best results. For a bivariate set, NN regressor is quasi perfect to predict a value but with a multivariate, it seems that it's not the case."
   ]
  }
 ],
 "metadata": {
  "kernelspec": {
   "display_name": "Python 3",
   "language": "python",
   "name": "python3"
  },
  "language_info": {
   "codemirror_mode": {
    "name": "ipython",
    "version": 3
   },
   "file_extension": ".py",
   "mimetype": "text/x-python",
   "name": "python",
   "nbconvert_exporter": "python",
   "pygments_lexer": "ipython3",
   "version": "3.7.6"
  }
 },
 "nbformat": 4,
 "nbformat_minor": 4
}
