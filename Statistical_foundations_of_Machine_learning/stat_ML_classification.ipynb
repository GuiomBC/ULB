{
 "cells": [
  {
   "cell_type": "markdown",
   "metadata": {},
   "source": [
    "<center> <h1>SFML-Project-Classification-INFO-F422</h1> </center>\n",
    "\n",
    "<center> <h2>Bernard Manderick</h2> </center>\n",
    " \n",
    "<center> <h3>Guillaume Buisson-Chavot</h3> </center> \n",
    "<center> <h3>matricule: 000465822 </h3> </center> "
   ]
  },
  {
   "cell_type": "raw",
   "metadata": {},
   "source": [
    "Question: We want to know if there is a difference between 2 machine learning algorithms in terms of errors.\n",
    "\n",
    "For that, we will create a synthetic set in order to test the 2 algorithms on it before to apply them on a real-world dataset."
   ]
  },
  {
   "cell_type": "markdown",
   "metadata": {},
   "source": [
    "## 1. Synthetic dataset:"
   ]
  },
  {
   "cell_type": "code",
   "execution_count": 275,
   "metadata": {},
   "outputs": [
    {
     "data": {
      "image/png": "[encoded data removed]",
      "text/plain": [
       "<Figure size 432x288 with 1 Axes>"
      ]
     },
     "metadata": {
      "needs_background": "light"
     },
     "output_type": "display_data"
    }
   ],
   "source": [
    "from sklearn.datasets import make_blobs\n",
    "from matplotlib import pyplot\n",
    "from pandas import DataFrame\n",
    "X, y =  make_blobs(n_samples=1000, centers=2, n_features=2, cluster_std= (2,2), center_box = (-10,10))\n",
    "df = DataFrame(dict(x=X[:,0], y=X[:,1], label=y))\n",
    "colors = {0:'red', 1:'blue'}\n",
    "fig, ax = pyplot.subplots()\n",
    "grouped = df.groupby('label')\n",
    "for key, group in grouped:\n",
    "    group.plot(ax=ax, kind='scatter', x='x', y='y', label=key, color=colors[key])\n",
    "pyplot.show()\n"
   ]
  },
  {
   "cell_type": "markdown",
   "metadata": {},
   "source": [
    "We can now print a small part of the values of the dataframe we create:"
   ]
  },
  {
   "cell_type": "code",
   "execution_count": 276,
   "metadata": {},
   "outputs": [
    {
     "name": "stdout",
     "output_type": "stream",
     "text": [
      "           x         y  label\n",
      "0  10.207311 -5.180247      0\n",
      "1   7.872766 -3.913635      1\n",
      "2   9.835486 -5.800608      0\n",
      "3   7.312659 -2.842581      1\n",
      "4  11.954994 -4.710721      0\n"
     ]
    }
   ],
   "source": [
    "print(df.head())"
   ]
  },
  {
   "cell_type": "markdown",
   "metadata": {},
   "source": [
    "### 1.1 Support vector machine with packages"
   ]
  },
  {
   "cell_type": "markdown",
   "metadata": {},
   "source": [
    "We can use the Support vector machine method:"
   ]
  },
  {
   "cell_type": "code",
   "execution_count": 277,
   "metadata": {},
   "outputs": [
    {
     "name": "stdout",
     "output_type": "stream",
     "text": [
      "confidence = 0.8466666666666667\n"
     ]
    }
   ],
   "source": [
    "import numpy as np\n",
    "from sklearn.svm import SVC\n",
    "from sklearn.metrics import accuracy_score, recall_score, precision_score\n",
    "from sklearn.model_selection import train_test_split\n",
    "import pandas as pd\n",
    "\n",
    "\n",
    "X = np.array(df.drop(['label'], 1))\n",
    "y = np.array(df['label'])\n",
    "\n",
    "X_train, X_test, y_train, y_test = train_test_split(X, y, test_size=0.3)\n",
    "\n",
    "clf_svm = SVC(kernel='linear')\n",
    "\n",
    "clf_svm.fit(X_train, y_train)\n",
    "confidence_svm = clf_svm.score(X_test, y_test)\n",
    "print('confidence =', confidence_svm)\n"
   ]
  },
  {
   "cell_type": "markdown",
   "metadata": {},
   "source": [
    "### 1.2 Support vector machine from scratch:"
   ]
  },
  {
   "cell_type": "markdown",
   "metadata": {},
   "source": [
    "I also developed this algorithm from scratch with explainations. Here it is:"
   ]
  },
  {
   "cell_type": "code",
   "execution_count": 278,
   "metadata": {},
   "outputs": [],
   "source": [
    "import pandas as pd\n",
    "from sklearn.preprocessing import MinMaxScaler\n",
    "from sklearn.model_selection import train_test_split \n",
    "from sklearn.metrics import accuracy_score, recall_score, precision_score\n",
    "from sklearn.utils import shuffle"
   ]
  },
  {
   "cell_type": "markdown",
   "metadata": {},
   "source": [
    "SVM is a supervised machine learning algorithm used in general for binary classification problems. Given a set of training examples, each marked as belonging to one or the other of two categories, a SVM training algorithm builds a model that assigns new examples to one category or the other, making it a non-probabilistic binary linear classifier. An SVM model is a representation of the examples as points in space, mapped such that the examples of the separate categories are divided by a clear gap that is as wide as possible. New examples are then mapped into that same space and predicted to belong to a category based on the side of the gap on which they fall.\n"
   ]
  },
  {
   "cell_type": "markdown",
   "metadata": {},
   "source": [
    "Below is the code of the cost function:\n",
    "$$J(w) = \\frac{1}{2}||w||^2 + C\\left[\\frac{1}{N}\\sum\\limits_{i}^{n}max(0, 1-y_i * (w \\cdotp x_i + b))\\right]$$\n",
    "The first part of the function corresponds to the margin, in fact the width between the two (positive and negative) hyperplanes is equal to: \n",
    "$$width = (x_+ - x_-)* \\frac{w}{||w||}$$ and joining the previous equation with the following equations of the two hyperplanes:\n",
    "$$y_i*(w x_+ + b) -1 = 0$$ and $$ y_i*(w x_- + b) -1 = 0$$ with $$y_i = \\begin{cases}\n",
    "  1 & \\text{for } x_+  \\\\   \n",
    "  -1 & \\text{for } x_-\n",
    "\\end{cases}$$\n",
    "we obtain $$width = \\frac{2}{||w||}$$ and we have to maximize the width which is the same to minimize w and the trick is to transform  $$\\text{min }w$$ into $$ min\\frac{1}{2}||w||^2$$ \n",
    "The second part of the function which begins by C is called Hinge loss function and we have to minimize the sum which corresponds to distance between positive (or negative) hyperplane and our training set. C is a regularization parameter, larger C results in narrow margin and a smaller in a wider margin. N is just the number of lines we have in ours features."
   ]
  },
  {
   "cell_type": "code",
   "execution_count": 279,
   "metadata": {},
   "outputs": [],
   "source": [
    "def compute_cost_function(W, X, Y):\n",
    "    distances = 1 - Y * (np.dot(X, W))\n",
    "    distances[distances < 0] = 0    # the max between 0 and the distance is kept\n",
    "    hinge_loss = C * (np.sum(distances) / X.shape[0])\n",
    "    return 1 / 2 * np.dot(W, W) + hinge_loss ## = cost"
   ]
  },
  {
   "cell_type": "markdown",
   "metadata": {},
   "source": [
    "Below is the code of the gradient of the cost function:\n",
    "\n",
    "We can simplify $$max(0, 1-y_i * (w \\cdotp x_i + b))$$ into $$max(0, 1-y_i * (W \\cdotp X_i))$$ with $$W =(w,b)$$ and $$X = (x_i,1)$$\n",
    "and we obtain with the previous simplification:\n",
    "\n",
    "$$J(w) = \\frac{1}{2}||w||^2 + C\\left[\\frac{1}{N}\\sum\\limits_{i}^{n}max(0, 1-y_i * (W \\cdotp X_i))\\right]$$\n",
    "and finally, we have the following gradient of the cost function:\n",
    "\n",
    "$$\\nabla_w J(w) = \\frac{1}{N}\\sum\\limits_{i}^{n}\n",
    "\\begin{cases}\n",
    "  w & \\text{if } max(0, 1-y_i * (W \\cdotp X_i))=0 \\\\   \n",
    "  w-Cy_ix_i    & \\text{otherwise}\n",
    "\\end{cases}$$"
   ]
  },
  {
   "cell_type": "code",
   "execution_count": 280,
   "metadata": {},
   "outputs": [],
   "source": [
    "def compute_cost_function_gradient(W, X, Y):\n",
    "    Y = np.array([Y])\n",
    "    X = np.array([X]) \n",
    "    distances = 1 - (Y * np.dot(X, W))\n",
    "    grad = np.zeros(len(W))\n",
    "    for index, value in enumerate(distances):\n",
    "        if max(0, value) == 0:\n",
    "            dist = W\n",
    "        else:\n",
    "            dist = W - (C * Y[index] * X[index])\n",
    "        grad += dist\n",
    "    return grad/len(Y)"
   ]
  },
  {
   "cell_type": "markdown",
   "metadata": {},
   "source": [
    "Now, we have to compute the stochastic gradient descent function: For this purpose, we have to minimise the two parts of the following equation:\n",
    "𝐽(𝑤)=12||𝑤||2+𝐶[1𝑁∑𝑖𝑛𝑚𝑎𝑥(0,1−𝑦𝑖∗(𝑊⋅𝑋𝑖))]\n",
    "The gradient is the direction of the inscrease of the function J(w). We need to go to the direction of the decrease, that's why we calculate the gradient of the cost function from the train set. Particularly, we perform the gradient descent by substracting a learning rate multiplied by the gradient of the cost function from the weight initialized with zero value. And we compute the cost for all the 2^n. In this way, we can determine the weight by repeating the procedure a number of times we decide (here 2048 cycles). We can add a criterion to stop before the max_cycles value by comparing the difference between the previous cost and the new cost and if this mesurement is smaller than a percentage of the old cost, we stop the cycles and return directly the weigts."
   ]
  },
  {
   "cell_type": "code",
   "execution_count": 281,
   "metadata": {},
   "outputs": [],
   "source": [
    "def compute_stochastic_gradient_descent(features, outputs):\n",
    "    max_cycles, rate = 2049, 0.001 \n",
    "    weights = np.zeros(features.shape[1])\n",
    "    parameter, cycle = 0, 0\n",
    "    previous_cost = float(\"inf\")\n",
    "    while cycle <max_cycles:\n",
    "        cycle += 1\n",
    "        X, Y = shuffle(features, outputs)\n",
    "        for index, value_of_X in enumerate(X):\n",
    "            ascention = compute_cost_function_gradient(weights, value_of_X , Y[index])\n",
    "            weights = weights - (learning_rate * ascention)\n",
    "        if cycle == 2**parameter:\n",
    "            cost = compute_cost_function(weights, features, outputs)\n",
    "            print(\"nb_of_cycles: {} and Cost: {}\".format(cycle, cost))\n",
    "            parameter +=1\n",
    "            print('cost=', cost)   \n",
    "            if abs(previous_cost - cost) < rate * previous_cost:\n",
    "                cycle = max_cycles\n",
    "            previous_cost = cost\n",
    "        \n",
    "    return weights"
   ]
  },
  {
   "cell_type": "code",
   "execution_count": 282,
   "metadata": {},
   "outputs": [
    {
     "name": "stdout",
     "output_type": "stream",
     "text": [
      "             x         y  label\n",
      "0    10.207311 -5.180247      0\n",
      "1     7.872766 -3.913635      1\n",
      "2     9.835486 -5.800608      0\n",
      "3     7.312659 -2.842581      1\n",
      "4    11.954994 -4.710721      0\n",
      "..         ...       ...    ...\n",
      "995  10.063153 -5.533033      0\n",
      "996  11.111413 -7.238088      0\n",
      "997   7.748518  0.526372      1\n",
      "998  10.289940 -1.894886      1\n",
      "999  12.985773 -9.086449      0\n",
      "\n",
      "[1000 rows x 3 columns]\n"
     ]
    }
   ],
   "source": [
    "C = 10000\n",
    "learning_rate = 0.000001\n",
    "#read and display dataset\n",
    "data = df\n",
    "print(data)"
   ]
  },
  {
   "cell_type": "code",
   "execution_count": 283,
   "metadata": {},
   "outputs": [
    {
     "name": "stdout",
     "output_type": "stream",
     "text": [
      "             x         y  label\n",
      "0    10.207311 -5.180247    1.0\n",
      "1     7.872766 -3.913635   -1.0\n",
      "2     9.835486 -5.800608    1.0\n",
      "3     7.312659 -2.842581   -1.0\n",
      "4    11.954994 -4.710721    1.0\n",
      "..         ...       ...    ...\n",
      "995  10.063153 -5.533033    1.0\n",
      "996  11.111413 -7.238088    1.0\n",
      "997   7.748518  0.526372   -1.0\n",
      "998  10.289940 -1.894886   -1.0\n",
      "999  12.985773 -9.086449    1.0\n",
      "\n",
      "[1000 rows x 3 columns]\n"
     ]
    }
   ],
   "source": [
    "#convert existing labels into 1 et -1 labels\n",
    "diag_map = {0: 1.0, 1: -1.0}\n",
    "data['label'] = data['label'].map(diag_map)\n",
    "print(data)"
   ]
  },
  {
   "cell_type": "code",
   "execution_count": 284,
   "metadata": {},
   "outputs": [],
   "source": [
    "#assign labels and features to different data frames\n",
    "Y = data.loc[:, 'label']\n",
    "X = data.iloc[:, 0:2]"
   ]
  },
  {
   "cell_type": "code",
   "execution_count": 285,
   "metadata": {},
   "outputs": [],
   "source": [
    "# normalize values of features to avoid overflow\n",
    "X_normalized = MinMaxScaler().fit_transform(X.values)\n",
    "X = pd.DataFrame(X_normalized)"
   ]
  },
  {
   "cell_type": "code",
   "execution_count": 286,
   "metadata": {},
   "outputs": [],
   "source": [
    "#insert a new column b full of 1 at the end\n",
    "X.insert(loc=len(X.columns), column='b', value=1)"
   ]
  },
  {
   "cell_type": "code",
   "execution_count": 287,
   "metadata": {},
   "outputs": [],
   "source": [
    "#split dataset to obtain train and test sets\n",
    "X_train, X_test, y_train, y_test = train_test_split(X, Y, test_size=0.2, random_state=42)"
   ]
  },
  {
   "cell_type": "code",
   "execution_count": 288,
   "metadata": {},
   "outputs": [
    {
     "name": "stdout",
     "output_type": "stream",
     "text": [
      "training start\n",
      "nb_of_cycles: 1 and Cost: 8723.728431019123\n",
      "cost= 8723.728431019123\n",
      "nb_of_cycles: 2 and Cost: 7459.55593901088\n",
      "cost= 7459.55593901088\n",
      "nb_of_cycles: 4 and Cost: 5604.096482409939\n",
      "cost= 5604.096482409939\n",
      "nb_of_cycles: 8 and Cost: 4343.082540293514\n",
      "cost= 4343.082540293514\n",
      "nb_of_cycles: 16 and Cost: 3770.6508345609013\n",
      "cost= 3770.6508345609013\n",
      "nb_of_cycles: 32 and Cost: 3464.0422453761958\n",
      "cost= 3464.0422453761958\n",
      "nb_of_cycles: 64 and Cost: 3338.4405309635704\n",
      "cost= 3338.4405309635704\n",
      "nb_of_cycles: 128 and Cost: 3274.869388756811\n",
      "cost= 3274.869388756811\n",
      "nb_of_cycles: 256 and Cost: 3273.0467956830353\n",
      "cost= 3273.0467956830353\n",
      "training end\n",
      "weights are: [  3.31377033 -11.99079869   4.88936322]\n"
     ]
    }
   ],
   "source": [
    "#train the model\n",
    "print(\"training start\")\n",
    "W = compute_stochastic_gradient_descent(X_train.to_numpy(), y_train.to_numpy())\n",
    "print(\"training end\")\n",
    "print(\"weights are: {}\".format(W))"
   ]
  },
  {
   "cell_type": "code",
   "execution_count": 289,
   "metadata": {},
   "outputs": [
    {
     "name": "stdout",
     "output_type": "stream",
     "text": [
      "apply the model on test set:\n",
      "accuracy of svm on test dataset: 0.85\n",
      "precision of svm on test dataset: 0.8478260869565217\n"
     ]
    }
   ],
   "source": [
    "print(\"apply the model on test set:\")\n",
    "y_train_predicted = np.array([])\n",
    "for i in range(X_train.shape[0]):\n",
    "    ypred = np.sign(np.dot(X_train.to_numpy()[i], W))\n",
    "    y_train_predicted = np.append(y_train_predicted, ypred)\n",
    "\n",
    "y_test_predicted = np.array([])\n",
    "for i in range(X_test.shape[0]):\n",
    "    ypred = np.sign(np.dot(X_test.to_numpy()[i], W))\n",
    "    y_test_predicted = np.append(y_test_predicted, ypred)\n",
    "\n",
    "print(\"accuracy of svm on test dataset: {}\".format(accuracy_score(y_test, y_test_predicted)))\n",
    "print(\"precision of svm on test dataset: {}\".format(precision_score(y_test, y_test_predicted)))"
   ]
  },
  {
   "cell_type": "markdown",
   "metadata": {},
   "source": [
    "### 1.3 Nearest neighbors algorithm:"
   ]
  },
  {
   "cell_type": "markdown",
   "metadata": {},
   "source": [
    "We can use the nearest neighbors algorithm:"
   ]
  },
  {
   "cell_type": "code",
   "execution_count": 290,
   "metadata": {},
   "outputs": [
    {
     "name": "stdout",
     "output_type": "stream",
     "text": [
      "confidence = 0.795\n"
     ]
    }
   ],
   "source": [
    "from sklearn.neighbors import (NeighborhoodComponentsAnalysis, KNeighborsClassifier)\n",
    "from sklearn.pipeline import Pipeline\n",
    "nca = NeighborhoodComponentsAnalysis(random_state=42)\n",
    "knn = KNeighborsClassifier(n_neighbors=2)\n",
    "nca_pipe = Pipeline([('nca', nca), ('knn', knn)])\n",
    "nca_pipe.fit(X_train, y_train)\n",
    "confidence_knn = nca_pipe.score(X_test, y_test)\n",
    "print('confidence =',confidence_knn)"
   ]
  },
  {
   "cell_type": "code",
   "execution_count": 291,
   "metadata": {},
   "outputs": [
    {
     "name": "stdout",
     "output_type": "stream",
     "text": [
      "confidence = 0.79\n"
     ]
    }
   ],
   "source": [
    "knn = KNeighborsClassifier(n_neighbors=3)\n",
    "nca_pipe = Pipeline([('nca', nca), ('knn', knn)])\n",
    "nca_pipe.fit(X_train, y_train)\n",
    "confidence_knn = nca_pipe.score(X_test, y_test)\n",
    "print('confidence =',confidence_knn)"
   ]
  },
  {
   "cell_type": "code",
   "execution_count": 292,
   "metadata": {},
   "outputs": [
    {
     "name": "stdout",
     "output_type": "stream",
     "text": [
      "confidence = 0.815\n"
     ]
    }
   ],
   "source": [
    "knn = KNeighborsClassifier(n_neighbors=4)\n",
    "nca_pipe = Pipeline([('nca', nca), ('knn', knn)])\n",
    "nca_pipe.fit(X_train, y_train)\n",
    "confidence_knn = nca_pipe.score(X_test, y_test)\n",
    "print('confidence =',confidence_knn)"
   ]
  },
  {
   "cell_type": "markdown",
   "metadata": {},
   "source": [
    "we can see that if we change k (= n_neighbors = number of neighbors), we can improve the result.\n",
    "\n",
    "Explanations of the KNN algorithm:\n",
    "\n",
    "Given a query point x0, we find the k training points x(r) with r = 1, ..., k closest in distance to x0 and then classify using majority vote among the k neighbors. We use euclidean distance in feature space: d(i) = ||x(i) - xo||\n",
    "We first standardize each of the features to have mean zero and variance 1, since it's possible that they are measured in different units"
   ]
  },
  {
   "cell_type": "markdown",
   "metadata": {},
   "source": [
    "Conclusion: We can see that for our synthetic set, SVM algorithm is better than KNN algorithm and if we code the SVM algorithm from scratch, the scores are approximatively the same for SVM with packages.\n",
    "We have to note that these results depends on the set, if the points are more clearly separeted, if the clusters are more distant in space then the results will change and sometimes it's KNN which is more accurate."
   ]
  },
  {
   "cell_type": "markdown",
   "metadata": {},
   "source": [
    "## 2. Real-world dataset:\n"
   ]
  },
  {
   "cell_type": "code",
   "execution_count": 293,
   "metadata": {},
   "outputs": [
    {
     "name": "stdout",
     "output_type": "stream",
     "text": [
      "        0   1   2   3   4   5   6   7   8   9   10\n",
      "0  1000025   5   1   1   1   2   1   3   1   1   2\n",
      "1  1002945   5   4   4   5   7  10   3   2   1   2\n",
      "2  1015425   3   1   1   1   2   2   3   1   1   2\n",
      "3  1016277   6   8   8   1   3   4   3   7   1   2\n",
      "4  1017023   4   1   1   3   2   1   3   1   1   2\n",
      "         0   1   2   3   4   5  6   7   8   9   10\n",
      "694  776715   3   1   1   1   3  2   1   1   1   2\n",
      "695  841769   2   1   1   1   2  1   1   1   1   2\n",
      "696  888820   5  10  10   3   7  3   8  10   2   4\n",
      "697  897471   4   8   6   4   3  4  10   6   1   4\n",
      "698  897471   4   8   8   5   4  5  10   4   1   4\n"
     ]
    }
   ],
   "source": [
    "real_data = pd.read_csv(\"https://archive.ics.uci.edu/ml/machine-learning-databases/breast-cancer-wisconsin/breast-cancer-wisconsin.data\", header=None)\n",
    "print(real_data.head())\n",
    "print(real_data.tail())"
   ]
  },
  {
   "cell_type": "markdown",
   "metadata": {},
   "source": [
    "First, we can see there is no hearders, just ascending numbers assigned for each column. We can change that but we have to search the real hearders:\n"
   ]
  },
  {
   "cell_type": "markdown",
   "metadata": {},
   "source": [
    "Here is the link corresponding to the features of our data:\n",
    "https://archive.ics.uci.edu/ml/machine-learning-databases/breast-cancer-wisconsin/breast-cancer-wisconsin.names\n",
    "\n",
    "And we can read from this link that:\n",
    "\n",
    "- the number of Instances: 699 (as of 15 July 1992)\n",
    "\n",
    "- the number of Attributes: 10 plus the class attribute\n",
    "\n",
    "- the following Attribute Information: (class attribute has been moved to last column)\n",
    "\n",
    "Attribute    :           Domain\n",
    "1. Sample code number            : id number\n",
    "2. Clump Thickness               : 1 - 10\n",
    "3. Uniformity of Cell Size       : 1 - 10\n",
    "4. Uniformity of Cell Shape      : 1 - 10\n",
    "5. Marginal Adhesion             : 1 - 10\n",
    "6. Single Epithelial Cell Size   : 1 - 10\n",
    "7. Bare Nuclei                   : 1 - 10\n",
    "8. Bland Chromatin               : 1 - 10\n",
    "9. Normal Nucleoli               : 1 - 10\n",
    "10. Mitoses                      : 1 - 10\n",
    "11. Class                      : (2 for benign, 4 for malignant)\n",
    "\n",
    "\n",
    "- there are 16 missing attribute values\n",
    "\n",
    "There are 16 instances in Groups 1 to 6 that contain a single missing \n",
    "(i.e., unavailable) attribute value, now denoted by \"?\".  \n",
    "\n",
    "- the class distribution:\n",
    " \n",
    "   Benign: 458 (65.5%)\n",
    "   Malignant: 241 (34.5%)\n"
   ]
  },
  {
   "cell_type": "markdown",
   "metadata": {},
   "source": [
    "Now, we change the headers:"
   ]
  },
  {
   "cell_type": "code",
   "execution_count": 294,
   "metadata": {},
   "outputs": [
    {
     "name": "stdout",
     "output_type": "stream",
     "text": [
      "        Id  Cl_Th  Unif_cell_si  Unif_cell_sh  Mar_adh  S_epith_cell_si B_Nu  \\\n",
      "0  1000025      5             1             1        1                2    1   \n",
      "1  1002945      5             4             4        5                7   10   \n",
      "2  1015425      3             1             1        1                2    2   \n",
      "3  1016277      6             8             8        1                3    4   \n",
      "4  1017023      4             1             1        3                2    1   \n",
      "\n",
      "   B_Chr  Norm_N  Mi  Class  \n",
      "0      3       1   1      2  \n",
      "1      3       2   1      2  \n",
      "2      3       1   1      2  \n",
      "3      3       7   1      2  \n",
      "4      3       1   1      2  \n"
     ]
    }
   ],
   "source": [
    "real_data.columns =['Id', 'Cl_Th','Unif_cell_si', 'Unif_cell_sh', 'Mar_adh', 'S_epith_cell_si', 'B_Nu', 'B_Chr','Norm_N', 'Mi','Class']\n",
    "print(real_data.head())"
   ]
  },
  {
   "cell_type": "markdown",
   "metadata": {},
   "source": [
    "### 2.1 Data cleaning:"
   ]
  },
  {
   "cell_type": "markdown",
   "metadata": {},
   "source": [
    "Now, we have to clean the data, we have 16 missing values denoted by \"?\" according to the file of characteristics, either we remove each line which contains a missing value or we can compute the average or median for each column/feature and attribuate this value for the corresponding missing value or if there are a lot of missing values for a feature, we can remove the feature or finally, we can convert missing values to zero."
   ]
  },
  {
   "cell_type": "markdown",
   "metadata": {},
   "source": [
    "We convert the '?' values into nan values in order to use isnull() just after."
   ]
  },
  {
   "cell_type": "code",
   "execution_count": 295,
   "metadata": {},
   "outputs": [],
   "source": [
    "for val in ['Id', 'Cl_Th','Unif_cell_si', 'Unif_cell_sh', 'Mar_adh', 'S_epith_cell_si', 'B_Nu', 'B_Chr','Norm_N', 'Mi','Class']:\n",
    "    real_data[val] = real_data[val].replace(['?'],np.nan) "
   ]
  },
  {
   "cell_type": "code",
   "execution_count": 296,
   "metadata": {},
   "outputs": [
    {
     "data": {
      "text/plain": [
       "Id                  0\n",
       "Cl_Th               0\n",
       "Unif_cell_si        0\n",
       "Unif_cell_sh        0\n",
       "Mar_adh             0\n",
       "S_epith_cell_si     0\n",
       "B_Nu               16\n",
       "B_Chr               0\n",
       "Norm_N              0\n",
       "Mi                  0\n",
       "Class               0\n",
       "dtype: int64"
      ]
     },
     "execution_count": 296,
     "metadata": {},
     "output_type": "execute_result"
    }
   ],
   "source": [
    "real_data[:].isnull().sum()"
   ]
  },
  {
   "cell_type": "markdown",
   "metadata": {},
   "source": [
    "We can see that all the missing values belong to the 'Bare Nuclei' column. We can thus remove the rows with nan values or drop the 'Bare Nuclei' column but it's more accurate when we keep as much data as possible so the best solution is just to remove the 16 lines that contains nan values."
   ]
  },
  {
   "cell_type": "code",
   "execution_count": 297,
   "metadata": {},
   "outputs": [],
   "source": [
    "real_data_without_nan_rows = real_data.dropna()"
   ]
  },
  {
   "cell_type": "markdown",
   "metadata": {},
   "source": [
    "### SVM on real-world dataset"
   ]
  },
  {
   "cell_type": "markdown",
   "metadata": {},
   "source": [
    "We can now apply different algorithms on our dataset, we first remove the Id column for both which is without interest:"
   ]
  },
  {
   "cell_type": "code",
   "execution_count": 298,
   "metadata": {},
   "outputs": [
    {
     "name": "stdout",
     "output_type": "stream",
     "text": [
      "0.9658536585365853\n"
     ]
    },
    {
     "name": "stderr",
     "output_type": "stream",
     "text": [
      "/home/guiom/miniconda3/lib/python3.7/site-packages/pandas/core/frame.py:3997: SettingWithCopyWarning: \n",
      "A value is trying to be set on a copy of a slice from a DataFrame\n",
      "\n",
      "See the caveats in the documentation: https://pandas.pydata.org/pandas-docs/stable/user_guide/indexing.html#returning-a-view-versus-a-copy\n",
      "  errors=errors,\n"
     ]
    }
   ],
   "source": [
    "real_data_without_nan_rows.drop(['Id'], 1, inplace=True)\n",
    "X = np.array(real_data_without_nan_rows.drop(['Class'], 1))\n",
    "y = np.array(real_data_without_nan_rows['Class'])\n",
    "\n",
    "X_train, X_test, y_train, y_test = train_test_split(X, y, test_size=0.3)\n",
    "\n",
    "clf = SVC(kernel='linear')\n",
    "\n",
    "clf.fit(X_train, y_train)\n",
    "confidence = clf.score(X_test, y_test)\n",
    "print(confidence)"
   ]
  },
  {
   "cell_type": "markdown",
   "metadata": {},
   "source": [
    "### KNN on real-world dataset"
   ]
  },
  {
   "cell_type": "code",
   "execution_count": 299,
   "metadata": {},
   "outputs": [
    {
     "name": "stdout",
     "output_type": "stream",
     "text": [
      "confidence = 0.9707317073170731\n"
     ]
    }
   ],
   "source": [
    "from sklearn.neighbors import (NeighborhoodComponentsAnalysis, KNeighborsClassifier)\n",
    "from sklearn.pipeline import Pipeline\n",
    "nca = NeighborhoodComponentsAnalysis(random_state=42)\n",
    "knn = KNeighborsClassifier(n_neighbors=2)\n",
    "nca_pipe = Pipeline([('nca', nca), ('knn', knn)])\n",
    "nca_pipe.fit(X_train, y_train)\n",
    "confidence_knn = nca_pipe.score(X_test, y_test)\n",
    "print('confidence =',confidence_knn)"
   ]
  },
  {
   "cell_type": "code",
   "execution_count": 300,
   "metadata": {},
   "outputs": [
    {
     "name": "stdout",
     "output_type": "stream",
     "text": [
      "confidence = 0.9804878048780488\n"
     ]
    }
   ],
   "source": [
    "knn = KNeighborsClassifier(n_neighbors=3)\n",
    "nca_pipe = Pipeline([('nca', nca), ('knn', knn)])\n",
    "nca_pipe.fit(X_train, y_train)\n",
    "confidence_knn = nca_pipe.score(X_test, y_test)\n",
    "print('confidence =',confidence_knn)"
   ]
  },
  {
   "cell_type": "code",
   "execution_count": 301,
   "metadata": {},
   "outputs": [
    {
     "name": "stdout",
     "output_type": "stream",
     "text": [
      "confidence = 0.9804878048780488\n"
     ]
    }
   ],
   "source": [
    "knn = KNeighborsClassifier(n_neighbors=4)\n",
    "nca_pipe = Pipeline([('nca', nca), ('knn', knn)])\n",
    "nca_pipe.fit(X_train, y_train)\n",
    "confidence_knn = nca_pipe.score(X_test, y_test)\n",
    "print('confidence =',confidence_knn)"
   ]
  },
  {
   "cell_type": "markdown",
   "metadata": {},
   "source": [
    "Conclusion: we can see that KNN algorithm is more accurate than SVM algorithms if we choose k = 3 for KNN algorithm."
   ]
  }
 ],
 "metadata": {
  "kernelspec": {
   "display_name": "Python 3",
   "language": "python",
   "name": "python3"
  },
  "language_info": {
   "codemirror_mode": {
    "name": "ipython",
    "version": 3
   },
   "file_extension": ".py",
   "mimetype": "text/x-python",
   "name": "python",
   "nbconvert_exporter": "python",
   "pygments_lexer": "ipython3",
   "version": "3.7.6"
  }
 },
 "nbformat": 4,
 "nbformat_minor": 4
}
