{
 "cells": [
  {
   "cell_type": "markdown",
   "metadata": {},
   "source": [
    "<center> <h1>Algorithms in Computational Biology (INFO-F438)</h1> </center>\n",
    "\n",
    "<center> <h2>Assignment 1: Optimal Protein Folding in the HP Model</h2> </center>\n",
    " \n",
    "<center> <h3>Guillaume Buisson-Chavot</h3> </center> \n",
    "<center> <h3>matricule: 000465822 </h3> </center> "
   ]
  },
  {
   "cell_type": "code",
   "execution_count": 31,
   "metadata": {},
   "outputs": [],
   "source": [
    "import numpy as np\n",
    "from datetime import datetime\n",
    "import copy"
   ]
  },
  {
   "cell_type": "code",
   "execution_count": 32,
   "metadata": {},
   "outputs": [],
   "source": [
    "def two_first_elements(n):\n",
    "    \"\"\"returns coordinates of the two first elements of a sequence \n",
    "    of length n placed to be sure that the space of all sequences of \n",
    "    lenght n will have positive coordinates\n",
    "    \"\"\"\n",
    "    return [(n-2,n-4),(n-2,n-3)]"
   ]
  },
  {
   "cell_type": "code",
   "execution_count": 33,
   "metadata": {},
   "outputs": [
    {
     "name": "stdout",
     "output_type": "stream",
     "text": [
      "[(7, 5), (7, 6)]\n"
     ]
    }
   ],
   "source": [
    "#tests\n",
    "print(two_first_elements(9))"
   ]
  },
  {
   "cell_type": "code",
   "execution_count": 34,
   "metadata": {},
   "outputs": [],
   "source": [
    "def display(list_of_indexes, string_of_H_and_P):\n",
    "    \"\"\"builts and displays the grid (np.array) with the corresponding protein conformation from HP model\n",
    "    \"\"\" \n",
    "    if len(list_of_indexes) == 0:\n",
    "        print(\"list shouldn't be empty!\")\n",
    "        matrix = np.array((1,1),0)\n",
    "    else:    \n",
    "        l1, l2, new_list_of_indexes =[],[], []\n",
    "        max_col, min_col, max_row, min_row = 0, 0, 0, 0\n",
    "        n = len(string_of_H_and_P)\n",
    "        if n >= 4:\n",
    "            for i in range(n):\n",
    "                l1.append(list_of_indexes[i][0])\n",
    "                l2.append(list_of_indexes[i][1])\n",
    "            max_row, min_row, max_col, min_col = max(l1), min(l1), max(l2), min(l2)           \n",
    "            matrix = np.full((max_row-min_row+1, max_col-min_col+1),\"          \")\n",
    "            seq = list(enumerate(string_of_H_and_P, 1))\n",
    "            for elem in list_of_indexes:\n",
    "                new_list_of_indexes.append((elem[0]-min_row,elem[1]-min_col))   \n",
    "            for i in range(n):\n",
    "                matrix[new_list_of_indexes[i][0]][new_list_of_indexes[i][1]]= \" \"+ str(seq[i])+\" \"\n",
    "        else:\n",
    "            matrix = \"Please give a sequence of minimum length = 4!\"\n",
    "    return matrix   "
   ]
  },
  {
   "cell_type": "code",
   "execution_count": 35,
   "metadata": {},
   "outputs": [
    {
     "name": "stdout",
     "output_type": "stream",
     "text": [
      "[(7, 5), (7, 6)]\n",
      "[['          ' '          ' \" (10, 'H')\" \" (9, 'P') \"]\n",
      " ['          ' \" (4, 'P') \" \" (5, 'H') \" \" (8, 'H') \"]\n",
      " ['          ' \" (3, 'H') \" \" (6, 'H') \" \" (7, 'P') \"]\n",
      " [\" (1, 'P') \" \" (2, 'P') \" '          ' '          ']]\n",
      "Please give a sequence of minimum length = 4!\n"
     ]
    }
   ],
   "source": [
    "#tests\n",
    "print(two_first_elements(9))\n",
    "print(display([(7,5),(7,6),(6,6),(5,6),(5,7),(6,7),(6,8),(5,8),(4,8),(4,7)],'PPHPHHPHPH'))\n",
    "print(display([(5,6),(5,7),(5,8)],'PPP'))"
   ]
  },
  {
   "cell_type": "code",
   "execution_count": 36,
   "metadata": {},
   "outputs": [],
   "source": [
    "def score(list_of_indexes, string, score = 0):\n",
    "    \"\"\"returns the score and the pairs between which there is a connection\n",
    "    list_of_indexes: is a liste of tupples, each tupple representing an index\n",
    "    string: is a the sequence of H and P\n",
    "    \"\"\"\n",
    "    intermediate_liste = copy.copy(list_of_indexes)\n",
    "    pairs_of_H = []\n",
    "    for index in intermediate_liste:\n",
    "        list_of_indexes_around = [(index[0],index[1]+1), (index[0]-1,index[1]), (index[0],index[1]-1), (index[0]+1,index[1])]\n",
    "        if index == intermediate_liste[0]:\n",
    "            list_of_indexes_around.remove(intermediate_liste[1])\n",
    "            for i in range(len(list_of_indexes_around)):\n",
    "                if string[intermediate_liste.index(index)] == 'H':\n",
    "                    if list_of_indexes_around[i] in intermediate_liste and string[intermediate_liste.index(list_of_indexes_around[i])] == 'H':\n",
    "                        pairs_of_H.append((index,list_of_indexes_around[i]))\n",
    "        elif index == list_of_indexes[-1]:\n",
    "            list_of_indexes_around.remove(intermediate_liste[-2])\n",
    "            for i in range(len(list_of_indexes_around)):\n",
    "                if string[intermediate_liste.index(index)] == 'H':\n",
    "                    if list_of_indexes_around[i] in intermediate_liste and string[intermediate_liste.index(list_of_indexes_around[i])] == 'H':\n",
    "                        pairs_of_H.append((index,list_of_indexes_around[i]))\n",
    "        else:\n",
    "            list_of_indexes_around.remove(intermediate_liste[intermediate_liste.index(index) - 1])\n",
    "            list_of_indexes_around.remove(intermediate_liste[intermediate_liste.index(index) + 1])\n",
    "            for i in range(len(list_of_indexes_around)):\n",
    "                if string[intermediate_liste.index(index)] == 'H':\n",
    "                    if list_of_indexes_around[i] in intermediate_liste and string[intermediate_liste.index(list_of_indexes_around[i])] == 'H':\n",
    "                        pairs_of_H.append((index,list_of_indexes_around[i]))\n",
    "    #print(\"pairs_of_H=\", pairs_of_H)                    \n",
    "    pairs = []\n",
    "    while len(pairs_of_H)>1:\n",
    "        elem = pairs_of_H[0]\n",
    "        reverse_elem = ((elem[1],elem[0]))        \n",
    "        if reverse_elem in pairs_of_H:\n",
    "            pairs_of_H.remove(pairs_of_H[pairs_of_H.index(reverse_elem)])\n",
    "            pairs_of_H.pop(0)\n",
    "            score += 1\n",
    "            pairs.append(elem)\n",
    "    #print(\"-------- in score fonction --------\")        \n",
    "    #print(\"score=\",score) \n",
    "    #print(\"pairs=\",pairs)\n",
    "    #print(\"-----------------------------------\")\n",
    "    return score, pairs\n",
    "\n"
   ]
  },
  {
   "cell_type": "code",
   "execution_count": 37,
   "metadata": {},
   "outputs": [
    {
     "name": "stdout",
     "output_type": "stream",
     "text": [
      "(3, [((6, 6), (6, 7)), ((5, 7), (5, 8)), ((5, 7), (4, 7))])\n"
     ]
    }
   ],
   "source": [
    "#tests\n",
    "print(score([(7,5),(7,6),(6,6),(5,6),(5,7),(6,7),(6,8),(5,8),(4,8),(4,7)],'PPHPHHPHPH')) #score(HHPdebut)= 2 et score(PPHdebut)= 3"
   ]
  },
  {
   "cell_type": "code",
   "execution_count": 38,
   "metadata": {},
   "outputs": [],
   "source": [
    "def checking(indexes_list, direction):  #direction = left or right or middle\n",
    "    \"\"\"returns the following index in function of the choosen direction and None if the index is already full\n",
    "    \"\"\"\n",
    "    if direction == 'left' or direction == 'right' or direction == 'middle':\n",
    "        if direction == 'left':\n",
    "            a, b = 0, 0\n",
    "            c, d = -1, 1\n",
    "        elif direction == 'right':\n",
    "            a, b = 0, 0\n",
    "            c, d = 1, -1\n",
    "        elif direction == 'middle':\n",
    "            c, d = 0, 0\n",
    "            a, b = 1, -1\n",
    "        if indexes_list[-1][0] == indexes_list[-2][0] and indexes_list[-1][1] > indexes_list[-2][1]: #horiz/droite\n",
    "            index_left = (indexes_list[-1][0]+c,indexes_list[-1][1]+a)\n",
    "            if index_left in indexes_list:\n",
    "                res = None\n",
    "            else:\n",
    "                res = index_left\n",
    "        elif indexes_list[-1][0] == indexes_list[-2][0] and indexes_list[-1][1] < indexes_list[-2][1]: #horiz/gauche\n",
    "            index_left = (indexes_list[-1][0]+d,indexes_list[-1][1]+b)\n",
    "            if index_left in indexes_list:\n",
    "                res = None\n",
    "            else:\n",
    "                res = index_left\n",
    "        elif indexes_list[-1][1] == indexes_list[-2][1] and indexes_list[-1][0] > indexes_list[-2][0]: #vert/bas\n",
    "            index_left = (indexes_list[-1][0]+a,indexes_list[-1][1]+d)\n",
    "            if index_left in indexes_list:\n",
    "                res = None\n",
    "            else:\n",
    "                res = index_left\n",
    "        elif indexes_list[-1][1] == indexes_list[-2][1] and indexes_list[-1][0] < indexes_list[-2][0]:  #vert/haut  \n",
    "            index_left = (indexes_list[-1][0]+b,indexes_list[-1][1]+c)\n",
    "            if index_left in indexes_list:\n",
    "                res = None\n",
    "            else:\n",
    "                res = index_left\n",
    "    else:\n",
    "        res = \"please give a direction equal to left or right or middle!\"\n",
    "    return res    "
   ]
  },
  {
   "cell_type": "code",
   "execution_count": 39,
   "metadata": {},
   "outputs": [
    {
     "name": "stdout",
     "output_type": "stream",
     "text": [
      "(4, 7)\n",
      "(6, 7)\n",
      "(5, 8)\n",
      "(6, 6)\n",
      "(4, 6)\n",
      "(5, 5)\n"
     ]
    }
   ],
   "source": [
    "#test\n",
    "print(checking([(5,6),(5,7)], 'left'))\n",
    "print(checking([(5,6),(5,7)], 'right'))\n",
    "print(checking([(5,6),(5,7)], 'middle'))\n",
    "print(checking([(5,7),(5,6)], 'left'))\n",
    "print(checking([(5,7),(5,6)], 'right'))\n",
    "print(checking([(5,7),(5,6)], 'middle'))"
   ]
  },
  {
   "cell_type": "code",
   "execution_count": 40,
   "metadata": {},
   "outputs": [],
   "source": [
    "import os\n",
    "string_of_H_and_P = \"PPPPPPP\"\n",
    "total = 3**(len(string_of_H_and_P)-2)\n",
    "truc= []\n",
    "\n",
    "\n",
    "from IPython.display import clear_output\n",
    "\n",
    "    \n",
    "    \n",
    "def branch_addition(l ,k ): #k = profondeur et n = hauteur ie profondeur max\n",
    "    best_score_inter = 0 \n",
    "    new_sol= []\n",
    "    #print(\"recurrence=\",l)\n",
    "    if k == len(string_of_H_and_P):\n",
    "        best_score_inter = score(l, string_of_H_and_P)[0]\n",
    "        new_sol = l\n",
    "        #print(\"new_sol=\",new_sol)\n",
    "        truc.append(1)\n",
    "        clear_output(wait=True)\n",
    "        print(truc.count(1),\"/ (max = \",total, \")\")\n",
    "        \n",
    "    else:\n",
    "        for dir in ['left', 'middle' , 'right']:\n",
    "            new_index = checking(l, dir) #return None if busy, index empty if empty\n",
    "            if new_index != None:\n",
    "                #print('inside2')\n",
    "                l2 = copy.copy(l)\n",
    "                l2.append(new_index)\n",
    "                a,b = branch_addition(l2, k+1)\n",
    "                if a >= best_score_inter:\n",
    "                    best_score_inter = a\n",
    "                    #print(\"best score_inter =\", best_score_inter)\n",
    "                    new_sol = b\n",
    "                    #print(\"new sol=\", b)\n",
    "                    \n",
    "    return best_score_inter, new_sol "
   ]
  },
  {
   "cell_type": "code",
   "execution_count": 41,
   "metadata": {},
   "outputs": [
    {
     "name": "stdout",
     "output_type": "stream",
     "text": [
      "195 / (max =  243 )\n",
      "computation time = 0.52417 seconds\n",
      "string_of_H_and_P = PPPPPPP\n",
      "lenght of the sequence= 7\n",
      "solution= [(5, 3), (5, 4), (6, 4), (6, 3), (6, 2), (5, 2), (4, 2)]\n",
      "score= 0\n",
      "[[\" (7, 'P') \" '          ' '          ']\n",
      " [\" (6, 'P') \" \" (1, 'P') \" \" (2, 'P') \"]\n",
      " [\" (5, 'P') \" \" (4, 'P') \" \" (3, 'P') \"]]\n"
     ]
    }
   ],
   "source": [
    "n = len(string_of_H_and_P)\n",
    "list_of_two_first_elements = two_first_elements(n)\n",
    "print('two first elements=',list_of_two_first_elements)\n",
    "start = datetime.now()\n",
    "scoring, sol = branch_addition(list_of_two_first_elements, 2)\n",
    "end = datetime.now()\n",
    "elapsed = end - start\n",
    "formatted_computation_time = float('%i.%.6i' % (elapsed.seconds, elapsed.microseconds))\n",
    "print('computation time =',formatted_computation_time, 'seconds')\n",
    "print('string_of_H_and_P =', string_of_H_and_P)\n",
    "print(\"lenght of the sequence=\",n)\n",
    "print(\"solution=\", sol)\n",
    "print(\"score=\", scoring)\n",
    "print(display(sol,string_of_H_and_P))"
   ]
  },
  {
   "cell_type": "code",
   "execution_count": 42,
   "metadata": {},
   "outputs": [],
   "source": [
    "#This function is written to prune the branch and bound tree\n",
    "def are_symmetrical(seq1, seq2):\n",
    "    \"\"\"\n",
    "    returns 1 if seq1 and seq2 are symmetrical else 0   \n",
    "    \"\"\"\n",
    "    flag = 1\n",
    "    for i in range(len(seq1)):\n",
    "        if flag == 0:\n",
    "            pass\n",
    "        else:\n",
    "            if seq1[i] == seq2[i]:\n",
    "                flag = 1\n",
    "            elif seq1[i][1] == seq1[i-1][1]: #same line\n",
    "                if (seq1[i][0]==seq1[i-1][0]+1 and seq2[i][0]==seq2[i-1][0]-1) or \\\n",
    "                (seq1[i][0]==seq1[i-1][0]-1 and seq2[i][0]==seq2[i-1][0]+1) :\n",
    "                    flag = 1\n",
    "                else:\n",
    "                    flag = 0\n",
    "            elif seq1[i][0] == seq1[i-1][0]: #same line\n",
    "                if (seq1[i][1]==seq1[i-1][1]-1 and seq2[i][1]==seq2[i-1][1]-1) or \\\n",
    "                (seq1[i][1]==seq1[i-1][1]+1 and seq2[i][1]==seq2[i-1][1]+1) :\n",
    "                    flag = 1 \n",
    "                else:\n",
    "                    flag = 0\n",
    "            else:\n",
    "                flag = 0\n",
    "    return flag "
   ]
  },
  {
   "cell_type": "code",
   "execution_count": 43,
   "metadata": {},
   "outputs": [
    {
     "name": "stdout",
     "output_type": "stream",
     "text": [
      "0\n",
      "1\n"
     ]
    }
   ],
   "source": [
    "seq3 = [(4,2),(4,3),(5,3),(5,2),(6,2),(6,1),(7,1)] \n",
    "seq4 = [(4,2),(4,3),(3,3),(3,2),(2,2),(2,1),(2,0)]\n",
    "seq5 = [(4,2),(4,3),(3,3),(3,2),(2,2),(2,1),(1,1)]\n",
    "print(are_symmetrical(seq4,seq3))\n",
    "print(are_symmetrical(seq5,seq3))"
   ]
  },
  {
   "cell_type": "code",
   "execution_count": 44,
   "metadata": {},
   "outputs": [],
   "source": [
    "def branch_and_bound_addition(l ,k ): #k = profondeur et n = hauteur ie profondeur max\n",
    "    best_score_inter = 0 \n",
    "    new_sol= []\n",
    "    if k == len(string_of_H_and_P):\n",
    "        best_score_inter = score(l, string_of_H_and_P)[0]\n",
    "        new_sol = l\n",
    "    else:\n",
    "        for dir in ['left', 'middle' , 'right']:\n",
    "            new_index = checking(l, dir) #return None si occupé, index vide si vide\n",
    "            if new_index != None:\n",
    "                l2 = copy.copy(l)\n",
    "                l2.append(new_index)\n",
    "                a,b = branch_and_bound_addition(l2, k+1)\n",
    "                if a >= best_score_inter:\n",
    "                    best_score_inter = a\n",
    "                    new_sol = b\n",
    "                    \n",
    "    return best_score_inter, new_sol "
   ]
  },
  {
   "cell_type": "code",
   "execution_count": 45,
   "metadata": {},
   "outputs": [
    {
     "name": "stdout",
     "output_type": "stream",
     "text": [
      "string_of_H_and_P = HPPHHH\n",
      "two first elements= [(4, 2), (4, 3)]\n",
      "computation time = 0.004025 seconds\n",
      "sol= [(4, 2), (4, 3), (5, 3), (5, 2), (5, 1), (4, 1)]\n",
      "score= 2\n",
      "[[\" (6, 'H') \" \" (1, 'H') \" \" (2, 'P') \"]\n",
      " [\" (5, 'H') \" \" (4, 'H') \" \" (3, 'P') \"]]\n"
     ]
    }
   ],
   "source": [
    "string_of_H_and_P = \"HPPHHH\"\n",
    "print('string_of_H_and_P =', string_of_H_and_P)\n",
    "n = len(string_of_H_and_P)\n",
    "list_of_two_first_elements = two_first_elements(n)\n",
    "print('two first elements=',list_of_two_first_elements)\n",
    "start = datetime.now()\n",
    "scoring, sol = branch_and_bound_addition(list_of_two_first_elements, 2)\n",
    "end = datetime.now()\n",
    "elapsed = end - start\n",
    "formatted_computation_time = float('%i.%.6i' % (elapsed.seconds, elapsed.microseconds))\n",
    "print('computation time =',formatted_computation_time, 'seconds')\n",
    "print(\"sol=\", sol)\n",
    "print(\"score=\", scoring)\n",
    "print(display(sol,string_of_H_and_P))"
   ]
  },
  {
   "cell_type": "markdown",
   "metadata": {},
   "source": [
    "Now, we will test the algorothm with the provided sequences : HHHHHHH , HPPHPHP, HHHPHPPHPHPPHHHPH"
   ]
  },
  {
   "cell_type": "code",
   "execution_count": 46,
   "metadata": {},
   "outputs": [
    {
     "name": "stdout",
     "output_type": "stream",
     "text": [
      "string_of_H_and_P = HHHHHHH\n",
      "two first elements= [(5, 3), (5, 4)]\n",
      "computation time = 0.02224 seconds\n",
      "sol= [(5, 3), (5, 4), (6, 4), (6, 3), (6, 2), (5, 2), (4, 2)]\n",
      "score= 2\n",
      "[[\" (7, 'H') \" '          ' '          ']\n",
      " [\" (6, 'H') \" \" (1, 'H') \" \" (2, 'H') \"]\n",
      " [\" (5, 'H') \" \" (4, 'H') \" \" (3, 'H') \"]]\n"
     ]
    }
   ],
   "source": [
    "string_of_H_and_P = \"HHHHHHH\"\n",
    "print('string_of_H_and_P =', string_of_H_and_P)\n",
    "n = len(string_of_H_and_P)\n",
    "list_of_two_first_elements = two_first_elements(n)\n",
    "print('two first elements=',list_of_two_first_elements)\n",
    "start = datetime.now()\n",
    "scoring, sol = branch_and_bound_addition(list_of_two_first_elements, 2)\n",
    "end = datetime.now()\n",
    "elapsed = end - start\n",
    "formatted_computation_time = float('%i.%.6i' % (elapsed.seconds, elapsed.microseconds))\n",
    "print('computation time =',formatted_computation_time, 'seconds')\n",
    "print(\"sol=\", sol)\n",
    "print(\"score=\", scoring)\n",
    "print(display(sol,string_of_H_and_P))"
   ]
  },
  {
   "cell_type": "code",
   "execution_count": 29,
   "metadata": {},
   "outputs": [
    {
     "name": "stdout",
     "output_type": "stream",
     "text": [
      "string_of_H_and_P = HPPHPHP\n",
      "two first elements= [(5, 3), (5, 4)]\n",
      "computation time = 0.006709 seconds\n",
      "sol= [(5, 3), (5, 4), (6, 4), (6, 3), (6, 2), (5, 2), (4, 2)]\n",
      "score= 2\n",
      "[[\" (7, 'P') \" '          ' '          ']\n",
      " [\" (6, 'H') \" \" (1, 'H') \" \" (2, 'P') \"]\n",
      " [\" (5, 'P') \" \" (4, 'H') \" \" (3, 'P') \"]]\n"
     ]
    }
   ],
   "source": [
    "string_of_H_and_P = \"HPPHPHP\"\n",
    "print('string_of_H_and_P =', string_of_H_and_P)\n",
    "n = len(string_of_H_and_P)\n",
    "list_of_two_first_elements = two_first_elements(n)\n",
    "print('two first elements=',list_of_two_first_elements)\n",
    "start = datetime.now()\n",
    "scoring, sol = branch_and_bound_addition(list_of_two_first_elements, 2)\n",
    "end = datetime.now()\n",
    "elapsed = end - start\n",
    "formatted_computation_time = float('%i.%.6i' % (elapsed.seconds, elapsed.microseconds))\n",
    "print('computation time =',formatted_computation_time, 'seconds')\n",
    "print(\"sol=\", sol)\n",
    "print(\"score=\", scoring)\n",
    "print(display(sol,string_of_H_and_P))"
   ]
  },
  {
   "cell_type": "code",
   "execution_count": 30,
   "metadata": {},
   "outputs": [
    {
     "name": "stdout",
     "output_type": "stream",
     "text": [
      "string_of_H_and_P = HHHPHPPHPHPPHHHPH\n",
      "two first elements= [(15, 13), (15, 14)]\n",
      "computation time = 323.740001 seconds\n",
      "sol= [(15, 13), (15, 14), (15, 15), (16, 15), (16, 14), (17, 14), (17, 13), (16, 13), (16, 12), (15, 12), (15, 11), (14, 11), (14, 12), (14, 13), (14, 14), (13, 14), (13, 13)]\n",
      "score= 8\n",
      "[['          ' '          ' \" (17, 'H')\" \" (16, 'P')\" '          ']\n",
      " [\" (12, 'P')\" \" (13, 'H')\" \" (14, 'H')\" \" (15, 'H')\" '          ']\n",
      " [\" (11, 'P')\" \" (10, 'H')\" \" (1, 'H') \" \" (2, 'H') \" \" (3, 'H') \"]\n",
      " ['          ' \" (9, 'P') \" \" (8, 'H') \" \" (5, 'H') \" \" (4, 'P') \"]\n",
      " ['          ' '          ' \" (7, 'P') \" \" (6, 'P') \" '          ']]\n"
     ]
    }
   ],
   "source": [
    "string_of_H_and_P = \"HHHPHPPHPHPPHHHPH\"\n",
    "print('string_of_H_and_P =', string_of_H_and_P)\n",
    "n = len(string_of_H_and_P)\n",
    "list_of_two_first_elements = two_first_elements(n)\n",
    "print('two first elements=',list_of_two_first_elements)\n",
    "start = datetime.now()\n",
    "scoring, sol = branch_and_bound_addition(list_of_two_first_elements, 2)\n",
    "end = datetime.now()\n",
    "elapsed = end - start\n",
    "formatted_computation_time = float('%i.%.6i' % (elapsed.seconds, elapsed.microseconds))\n",
    "print('computation time =',formatted_computation_time, 'seconds')\n",
    "print(\"sol=\", sol)\n",
    "print(\"score=\", scoring)\n",
    "print(display(sol,string_of_H_and_P))"
   ]
  },
  {
   "cell_type": "code",
   "execution_count": null,
   "metadata": {},
   "outputs": [],
   "source": []
  }
 ],
 "metadata": {
  "kernelspec": {
   "display_name": "Python 3",
   "language": "python",
   "name": "python3"
  },
  "language_info": {
   "codemirror_mode": {
    "name": "ipython",
    "version": 3
   },
   "file_extension": ".py",
   "mimetype": "text/x-python",
   "name": "python",
   "nbconvert_exporter": "python",
   "pygments_lexer": "ipython3",
   "version": "3.7.6"
  }
 },
 "nbformat": 4,
 "nbformat_minor": 4
}
