{
 "cells": [
  {
   "cell_type": "markdown",
   "metadata": {},
   "source": [
    "<center> <h1>Algorithms in Computational Biology (INFO-F438)</h1> </center>\n",
    "\n",
    "<center> <h2>Assignment 3: Efficient String Matching</h2> </center>\n",
    " \n",
    "<center> <h3>Guillaume Buisson-Chavot</h3> </center> \n",
    "<center> <h3>matricule: 000465822 </h3> </center> "
   ]
  },
  {
   "cell_type": "markdown",
   "metadata": {},
   "source": [
    "To test the algorithm, I wrote a random text which contains the different keywords from the article:"
   ]
  },
  {
   "cell_type": "code",
   "execution_count": 125,
   "metadata": {},
   "outputs": [
    {
     "name": "stdout",
     "output_type": "stream",
     "text": [
      "alphabet =  {' ', 't', 'y', '.', 'i', 'w', 'h', 'c', 'S', 'n', 'e', 'a', 'v', 's', 'r', 'u', 'l', 'k', 'o', 'd'}\n"
     ]
    }
   ],
   "source": [
    "text = \"he is very sweet. She would like hers socks and he would like his ice\"\n",
    "keywords = ['he', 'she', 'his', 'hers']\n",
    "\n",
    "total_string = text\n",
    "for word in keywords:\n",
    "    total_string += word\n",
    "alphabet = {letter for letter in total_string}\n",
    "print('alphabet = ', alphabet)"
   ]
  },
  {
   "cell_type": "code",
   "execution_count": 126,
   "metadata": {},
   "outputs": [],
   "source": [
    "def goto_create(list_of_keywords):\n",
    "    '''\n",
    "    construction of the goto graph and a part of the output function\n",
    "    input: list of strings because a set is unordered in python,\n",
    "    that means that we can't use indexes to search in a set. And\n",
    "    it's possible in a list\n",
    "    output: goto and output which are dictionaries, goto represents the\n",
    "    goto graph and output corresponds to the partially computed output\n",
    "    function\n",
    "    '''\n",
    "    output, goto, newstate = {}, {}, 0\n",
    "    for word in list_of_keywords: \n",
    "        state, j = 0, 0\n",
    "        while (state,word[j]) in goto:\n",
    "            state = goto[(state,word[j])]\n",
    "            j += 1\n",
    "        for p in range(j,len(word)):\n",
    "            newstate += 1\n",
    "            goto[(state,word[p])] = newstate\n",
    "            state = newstate\n",
    "        output[state] = [word]\n",
    "    for a in alphabet:\n",
    "        if (0, a) not in goto:\n",
    "            goto[(0,a)] = 0\n",
    "    return goto, output\n"
   ]
  },
  {
   "cell_type": "code",
   "execution_count": 127,
   "metadata": {},
   "outputs": [
    {
     "name": "stdout",
     "output_type": "stream",
     "text": [
      "Test of goto function with set_of_keywords = {'he', 'she', 'his', 'hers'}:\n",
      "goto function = {(0, 'h'): 1, (1, 'e'): 2, (0, 's'): 3, (3, 'h'): 4, (4, 'e'): 5, (1, 'i'): 6, (6, 's'): 7, (2, 'r'): 8, (8, 's'): 9, (0, ' '): 0, (0, 't'): 0, (0, 'y'): 0, (0, '.'): 0, (0, 'i'): 0, (0, 'w'): 0, (0, 'c'): 0, (0, 'S'): 0, (0, 'n'): 0, (0, 'e'): 0, (0, 'a'): 0, (0, 'v'): 0, (0, 'r'): 0, (0, 'u'): 0, (0, 'l'): 0, (0, 'k'): 0, (0, 'o'): 0, (0, 'd'): 0}\n",
      "partially computed output function = {2: ['he'], 5: ['she'], 7: ['his'], 9: ['hers']}\n"
     ]
    }
   ],
   "source": [
    "print(\"Test of goto function with set_of_keywords = {'he', 'she', 'his', 'hers'}:\")\n",
    "\n",
    "goto, output = goto_create(keywords)\n",
    "print('goto function =', goto)\n",
    "print('partially computed output function =', output)"
   ]
  },
  {
   "cell_type": "code",
   "execution_count": 128,
   "metadata": {},
   "outputs": [],
   "source": [
    "def create_failure(goto, output):\n",
    "    '''\n",
    "    function which creates the failure function and updates the output function\n",
    "    input: goto and partially computed output dictionaries\n",
    "    output: failure and output dictionaries\n",
    "    '''\n",
    "    failure = {}\n",
    "    queue = []\n",
    "    #filling out the failure dictionary with the first values = 0\n",
    "    for a in alphabet:\n",
    "        s = goto[(0,a)] \n",
    "        if s != 0:\n",
    "            queue.append(s)\n",
    "            failure[s] = 0\n",
    "    #filling out the failure dictionary with the other values from the first values        \n",
    "    while queue != []:\n",
    "        r = queue.pop(0) \n",
    "        for a in alphabet:\n",
    "            if (r,a) in goto:\n",
    "                s = goto[(r,a)]\n",
    "                queue.append(s)             \n",
    "                state = failure[r]\n",
    "                while (state, a) not in goto:\n",
    "                    state = failure[state]\n",
    "                failure[s] = goto[(state,a)]  \n",
    "    #update of the output dictionary if (s) and failure[s] are keys of the output dictionary\n",
    "                if (s) in output and (failure[s]) in output:\n",
    "                    for i in range(len(output[failure[s]])):\n",
    "                        output[s].append(output[failure[s]][i])\n",
    "    return failure, output"
   ]
  },
  {
   "cell_type": "code",
   "execution_count": 129,
   "metadata": {},
   "outputs": [
    {
     "name": "stdout",
     "output_type": "stream",
     "text": [
      "{1: 0, 3: 0, 6: 0, 2: 0, 4: 1, 7: 3, 8: 0, 5: 2, 9: 3}\n",
      "{2: ['he'], 5: ['she', 'he'], 7: ['his'], 9: ['hers']}\n"
     ]
    }
   ],
   "source": [
    "failure, output = create_failure(goto, output)\n",
    "print(failure)\n",
    "print(output)"
   ]
  },
  {
   "cell_type": "code",
   "execution_count": 130,
   "metadata": {},
   "outputs": [],
   "source": [
    "def pattern_matching_machine(text, goto, failure, output):\n",
    "    '''\n",
    "    function which searches the locations of the keywords in a text from goto, failure\n",
    "    and output dictionaries built previously\n",
    "    input: text which is a string, goto, failure and output which are dictionaries\n",
    "    output: locations which is a dictionary, keys are the last index of the keywords \n",
    "    and values are the correspondant keywords found in the text\n",
    "    '''\n",
    "    locations, state = {}, 0\n",
    "    for i in range(len(text)):\n",
    "        while (state, text[i]) not in goto:\n",
    "            state = failure[state]\n",
    "        state = goto[(state, text[i])]\n",
    "        if (state) in output:\n",
    "            locations[i] = output[state]\n",
    "    return locations"
   ]
  },
  {
   "cell_type": "code",
   "execution_count": 131,
   "metadata": {},
   "outputs": [
    {
     "name": "stdout",
     "output_type": "stream",
     "text": [
      "reminder: \n",
      "text = 'he is very sweet. She would like hers socks and he would like his ice' \n",
      "keywords = ['he', 'she', 'his', 'hers']\n",
      "locations = {1: ['he'], 20: ['he'], 34: ['he'], 36: ['hers'], 49: ['he'], 64: ['his']}\n"
     ]
    }
   ],
   "source": [
    "locations = pattern_matching_machine(text, goto, failure, output)\n",
    "print(\"reminder:\",\"\\ntext = 'he is very sweet. She would like hers socks and he would like his ice'\", \n",
    "      \"\\nkeywords = ['he', 'she', 'his', 'hers']\")\n",
    "print('locations =', locations)"
   ]
  },
  {
   "cell_type": "code",
   "execution_count": 132,
   "metadata": {},
   "outputs": [],
   "source": [
    "def next_move_create(goto, failure):\n",
    "    '''\n",
    "    function which allows to eliminate all failure transition in pattern_matching_machine function.\n",
    "    For each state s and input letter or symbol a, delta[(s,a)] is a state in a finite set of states S. This \n",
    "    function is built by using goto and failure dictionaries and precomputes the result of every \n",
    "    sequence of possible failure transitions\n",
    "    input: goto and failure dictionaries\n",
    "    output: delta which is a dictionary\n",
    "    '''\n",
    "    queue = []\n",
    "    delta = {}\n",
    "    for a in alphabet:                                   # for each symbol a do\n",
    "        delta[(0, a)] = goto[(0, a)]                     # delta(0,a) <- g(0,a)\n",
    "        if goto[(0, a)] != 0:                            # if g(0,a) != 0 then\n",
    "            queue.append(goto[(0, a)])                   # queue <- queue U {g(0,a)}\n",
    "    while queue != []:                                     # while queue != empty do\n",
    "        r = queue.pop(0)                                 # let r be the next state in queue\n",
    "                                                         # queue <- queue - {r}\n",
    "        for a in alphabet:                               # for each symbol a do\n",
    "            if (r, a) in goto:                           # if g(r,a) = s != fail do\n",
    "                s = goto[(r, a)]\n",
    "                queue.append(s)                          # queue <- queue U {s}\n",
    "                delta[(r, a)] = s                        # delta(r,a) <- s\n",
    "            else:                                        # else\n",
    "                delta[(r, a)] = delta[(failure[r], a)]   # delta(r,a) <- delta(f(r),a)\n",
    "    return delta"
   ]
  },
  {
   "cell_type": "code",
   "execution_count": 133,
   "metadata": {},
   "outputs": [],
   "source": [
    "def pattern_matching_machine2(text, output):\n",
    "    '''\n",
    "    function which searches the locations of the keywords in a text from delta\n",
    "    and output dictionaries built previously\n",
    "    input: text which is a string and output which is a dictionary\n",
    "    output: locations which is a dictionary, keys are the last index of the keywords \n",
    "    and values are the correspondant keywords found in the text\n",
    "    '''\n",
    "    locations, state = {}, 0\n",
    "    for i in range(len(text)):\n",
    "        state = delta[(state, text[i])]\n",
    "        if (state) in output:\n",
    "            locations[i] = output[state]\n",
    "    return locations"
   ]
  },
  {
   "cell_type": "code",
   "execution_count": 134,
   "metadata": {},
   "outputs": [
    {
     "name": "stdout",
     "output_type": "stream",
     "text": [
      "delta= \n",
      " {(0, ' '): 0, (0, 't'): 0, (0, 'y'): 0, (0, '.'): 0, (0, 'i'): 0, (0, 'w'): 0, (0, 'h'): 1, (0, 'c'): 0, (0, 'S'): 0, (0, 'n'): 0, (0, 'e'): 0, (0, 'a'): 0, (0, 'v'): 0, (0, 's'): 3, (0, 'r'): 0, (0, 'u'): 0, (0, 'l'): 0, (0, 'k'): 0, (0, 'o'): 0, (0, 'd'): 0, (1, ' '): 0, (1, 't'): 0, (1, 'y'): 0, (1, '.'): 0, (1, 'i'): 6, (1, 'w'): 0, (1, 'h'): 1, (1, 'c'): 0, (1, 'S'): 0, (1, 'n'): 0, (1, 'e'): 2, (1, 'a'): 0, (1, 'v'): 0, (1, 's'): 3, (1, 'r'): 0, (1, 'u'): 0, (1, 'l'): 0, (1, 'k'): 0, (1, 'o'): 0, (1, 'd'): 0, (3, ' '): 0, (3, 't'): 0, (3, 'y'): 0, (3, '.'): 0, (3, 'i'): 0, (3, 'w'): 0, (3, 'h'): 4, (3, 'c'): 0, (3, 'S'): 0, (3, 'n'): 0, (3, 'e'): 0, (3, 'a'): 0, (3, 'v'): 0, (3, 's'): 3, (3, 'r'): 0, (3, 'u'): 0, (3, 'l'): 0, (3, 'k'): 0, (3, 'o'): 0, (3, 'd'): 0, (6, ' '): 0, (6, 't'): 0, (6, 'y'): 0, (6, '.'): 0, (6, 'i'): 0, (6, 'w'): 0, (6, 'h'): 1, (6, 'c'): 0, (6, 'S'): 0, (6, 'n'): 0, (6, 'e'): 0, (6, 'a'): 0, (6, 'v'): 0, (6, 's'): 7, (6, 'r'): 0, (6, 'u'): 0, (6, 'l'): 0, (6, 'k'): 0, (6, 'o'): 0, (6, 'd'): 0, (2, ' '): 0, (2, 't'): 0, (2, 'y'): 0, (2, '.'): 0, (2, 'i'): 0, (2, 'w'): 0, (2, 'h'): 1, (2, 'c'): 0, (2, 'S'): 0, (2, 'n'): 0, (2, 'e'): 0, (2, 'a'): 0, (2, 'v'): 0, (2, 's'): 3, (2, 'r'): 8, (2, 'u'): 0, (2, 'l'): 0, (2, 'k'): 0, (2, 'o'): 0, (2, 'd'): 0, (4, ' '): 0, (4, 't'): 0, (4, 'y'): 0, (4, '.'): 0, (4, 'i'): 6, (4, 'w'): 0, (4, 'h'): 1, (4, 'c'): 0, (4, 'S'): 0, (4, 'n'): 0, (4, 'e'): 5, (4, 'a'): 0, (4, 'v'): 0, (4, 's'): 3, (4, 'r'): 0, (4, 'u'): 0, (4, 'l'): 0, (4, 'k'): 0, (4, 'o'): 0, (4, 'd'): 0, (7, ' '): 0, (7, 't'): 0, (7, 'y'): 0, (7, '.'): 0, (7, 'i'): 0, (7, 'w'): 0, (7, 'h'): 4, (7, 'c'): 0, (7, 'S'): 0, (7, 'n'): 0, (7, 'e'): 0, (7, 'a'): 0, (7, 'v'): 0, (7, 's'): 3, (7, 'r'): 0, (7, 'u'): 0, (7, 'l'): 0, (7, 'k'): 0, (7, 'o'): 0, (7, 'd'): 0, (8, ' '): 0, (8, 't'): 0, (8, 'y'): 0, (8, '.'): 0, (8, 'i'): 0, (8, 'w'): 0, (8, 'h'): 1, (8, 'c'): 0, (8, 'S'): 0, (8, 'n'): 0, (8, 'e'): 0, (8, 'a'): 0, (8, 'v'): 0, (8, 's'): 9, (8, 'r'): 0, (8, 'u'): 0, (8, 'l'): 0, (8, 'k'): 0, (8, 'o'): 0, (8, 'd'): 0, (5, ' '): 0, (5, 't'): 0, (5, 'y'): 0, (5, '.'): 0, (5, 'i'): 0, (5, 'w'): 0, (5, 'h'): 1, (5, 'c'): 0, (5, 'S'): 0, (5, 'n'): 0, (5, 'e'): 0, (5, 'a'): 0, (5, 'v'): 0, (5, 's'): 3, (5, 'r'): 8, (5, 'u'): 0, (5, 'l'): 0, (5, 'k'): 0, (5, 'o'): 0, (5, 'd'): 0, (9, ' '): 0, (9, 't'): 0, (9, 'y'): 0, (9, '.'): 0, (9, 'i'): 0, (9, 'w'): 0, (9, 'h'): 4, (9, 'c'): 0, (9, 'S'): 0, (9, 'n'): 0, (9, 'e'): 0, (9, 'a'): 0, (9, 'v'): 0, (9, 's'): 3, (9, 'r'): 0, (9, 'u'): 0, (9, 'l'): 0, (9, 'k'): 0, (9, 'o'): 0, (9, 'd'): 0}\n",
      "------------------------------------------------------------------------------------------------------------------------\n",
      "reminder: \n",
      "text = 'he is very sweet. She would like hers socks and he would like his ice' \n",
      "keywords = ['he', 'she', 'his', 'hers']\n",
      "locations:  {1: ['he'], 20: ['he'], 34: ['he'], 36: ['hers'], 49: ['he'], 64: ['his']}\n"
     ]
    }
   ],
   "source": [
    "delta = next_move_create(goto, failure)\n",
    "print('delta= \\n', delta)\n",
    "print(120*'-')\n",
    "locations = pattern_matching_machine2(text, output)\n",
    "print(\"reminder:\",\"\\ntext = 'he is very sweet. She would like hers socks and he would like his ice'\", \n",
    "      \"\\nkeywords = ['he', 'she', 'his', 'hers']\")\n",
    "print('locations: ', locations)"
   ]
  },
  {
   "cell_type": "markdown",
   "metadata": {},
   "source": [
    "Now, I will test the algorithm with the text of description and the following keywords: pattern, tree, state, prove,\n",
    "the, it."
   ]
  },
  {
   "cell_type": "code",
   "execution_count": 135,
   "metadata": {},
   "outputs": [
    {
     "name": "stdout",
     "output_type": "stream",
     "text": [
      "alphabet =  {'.', 'c', 'k', 'o', 'd', '-', 'p', '1', 'b', 'q', 'O', 'i', 'h', 'M', 'e', 'v', 'ï', 'u', 'm', 'A', 'g', '(', 'x', 't', '5', 'C', 'P', ')', 'a', 's', 'r', 'l', ',', ' ', 'y', 'w', 'f', 'n', '9', '7', 'T'}\n",
      "------------------------------------------------------------------------------------------------------------------------\n",
      "locations = {18: ['the'], 74: ['tree'], 138: ['pattern'], 174: ['it'], 195: ['the'], 226: ['tree'], 234: ['the'], 263: ['the'], 271: ['pattern'], 315: ['the'], 337: ['the'], 347: ['pattern'], 361: ['the'], 375: ['the'], 489: ['the'], 497: ['pattern'], 536: ['prove'], 545: ['the'], 558: ['tree'], 581: ['it'], 588: ['state'], 596: ['pattern'], 653: ['the'], 683: ['the'], 698: ['it'], 710: ['the'], 728: ['pattern'], 786: ['the'], 807: ['it'], 828: ['the'], 858: ['it']}\n",
      "------------------------------------------------------------------------------------------------------------------------\n",
      "locations:  {18: ['the'], 74: ['tree'], 138: ['pattern'], 174: ['it'], 195: ['the'], 226: ['tree'], 234: ['the'], 263: ['the'], 271: ['pattern'], 315: ['the'], 337: ['the'], 347: ['pattern'], 361: ['the'], 375: ['the'], 489: ['the'], 497: ['pattern'], 536: ['prove'], 545: ['the'], 558: ['tree'], 581: ['it'], 588: ['state'], 596: ['pattern'], 653: ['the'], 683: ['the'], 698: ['it'], 710: ['the'], 728: ['pattern'], 786: ['the'], 807: ['it'], 828: ['the'], 858: ['it']}\n"
     ]
    }
   ],
   "source": [
    "text = \"As discussed in the session on Combinatorial Pattern Matching, keyword trees provide an efficient solution to search for multiple k patterns in a text of length n. The algorithm requires first the construction of a keyword tree and then, using naïve threading, the patterns can be identified in O(nm), where n is the average length of the k patterns and m is the length of the text. Alfred Aho and Margaret Corasick proposed in 1975 a more efficient solution that allows one to identify the patterns in O(m) time. To achieve this improvement, the keyword tree is replaced by a finite state pattern matching automata. Once this machine is constructed, the text can be processed and the starting positions for the different patterns can be returned as output. The full specification of the Aho-Corasick algorithm is provided in the original article included with this assignment.\"\n",
    "keywords = ['pattern', 'tree', 'state', 'prove', 'the', 'it']\n",
    "\n",
    "#creation of the alphabet from the text and keywords\n",
    "total_string = text\n",
    "for word in keywords:\n",
    "    total_string += word \n",
    "alphabet = {letter for letter in total_string}\n",
    "print('alphabet = ', alphabet)\n",
    "print(120*'-')\n",
    "\n",
    "#test of the first pattern_matching_machine\n",
    "goto, output = goto_create(keywords)\n",
    "failure, output = create_failure(goto, output)\n",
    "locations = pattern_matching_machine(text, goto, failure, output)\n",
    "print('locations =', locations)\n",
    "print(120*'-')\n",
    "\n",
    "#test of the second pattern_matching_machine which uses the next_move function\n",
    "delta = next_move_create(goto, failure)\n",
    "locations = pattern_matching_machine2(text, output)\n",
    "print('locations: ', locations)"
   ]
  }
 ],
 "metadata": {
  "kernelspec": {
   "display_name": "Python 3",
   "language": "python",
   "name": "python3"
  },
  "language_info": {
   "codemirror_mode": {
    "name": "ipython",
    "version": 3
   },
   "file_extension": ".py",
   "mimetype": "text/x-python",
   "name": "python",
   "nbconvert_exporter": "python",
   "pygments_lexer": "ipython3",
   "version": "3.7.6"
  }
 },
 "nbformat": 4,
 "nbformat_minor": 2
}
